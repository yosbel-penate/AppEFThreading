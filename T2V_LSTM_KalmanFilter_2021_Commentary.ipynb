{
  "nbformat": 4,
  "nbformat_minor": 0,
  "metadata": {
    "colab": {
      "name": "T2V_LSTM_KalmanFilter-2.ipynb",
      "provenance": [],
      "collapsed_sections": [],
      "include_colab_link": true
    },
    "kernelspec": {
      "display_name": "Python 3",
      "language": "python",
      "name": "python3"
    },
    "language_info": {
      "codemirror_mode": {
        "name": "ipython",
        "version": 3
      },
      "file_extension": ".py",
      "mimetype": "text/x-python",
      "name": "python",
      "nbconvert_exporter": "python",
      "pygments_lexer": "ipython3",
      "version": "3.6.9"
    }
  },
  "cells": [
    {
      "cell_type": "markdown",
      "metadata": {
        "id": "view-in-github",
        "colab_type": "text"
      },
      "source": [
        "<a href=\"https://colab.research.google.com/github/yosbel-penate/AppEFThreading/blob/master/T2V_LSTM_KalmanFilter_2021_Commentary.ipynb\" target=\"_parent\"><img src=\"https://colab.research.google.com/assets/colab-badge.svg\" alt=\"Open In Colab\"/></a>"
      ]
    },
    {
      "cell_type": "code",
      "metadata": {
        "colab": {
          "base_uri": "https://localhost:8080/"
        },
        "id": "IiVBz4ZOm_OK",
        "outputId": "4127a169-9c80-4dc5-8fad-e6a169733e00"
      },
      "source": [
        "!pip install pykalman mlflow"
      ],
      "execution_count": 2,
      "outputs": [
        {
          "output_type": "stream",
          "name": "stdout",
          "text": [
            "Collecting pykalman\n",
            "  Downloading pykalman-0.9.5.tar.gz (228 kB)\n",
            "\u001b[K     |████████████████████████████████| 228 kB 13.3 MB/s \n",
            "\u001b[?25hCollecting mlflow\n",
            "  Downloading mlflow-1.22.0-py3-none-any.whl (15.5 MB)\n",
            "\u001b[K     |████████████████████████████████| 15.5 MB 67.5 MB/s \n",
            "\u001b[?25hRequirement already satisfied: protobuf>=3.7.0 in /usr/local/lib/python3.7/dist-packages (from mlflow) (3.17.3)\n",
            "Collecting pyyaml>=5.1\n",
            "  Downloading PyYAML-6.0-cp37-cp37m-manylinux_2_5_x86_64.manylinux1_x86_64.manylinux_2_12_x86_64.manylinux2010_x86_64.whl (596 kB)\n",
            "\u001b[K     |████████████████████████████████| 596 kB 78.7 MB/s \n",
            "\u001b[?25hRequirement already satisfied: pandas in /usr/local/lib/python3.7/dist-packages (from mlflow) (1.1.5)\n",
            "Collecting querystring-parser\n",
            "  Downloading querystring_parser-1.2.4-py2.py3-none-any.whl (7.9 kB)\n",
            "Requirement already satisfied: sqlalchemy in /usr/local/lib/python3.7/dist-packages (from mlflow) (1.4.27)\n",
            "Collecting databricks-cli>=0.8.7\n",
            "  Downloading databricks-cli-0.16.2.tar.gz (58 kB)\n",
            "\u001b[K     |████████████████████████████████| 58 kB 4.9 MB/s \n",
            "\u001b[?25hCollecting prometheus-flask-exporter\n",
            "  Downloading prometheus_flask_exporter-0.18.6-py3-none-any.whl (17 kB)\n",
            "Requirement already satisfied: Flask in /usr/local/lib/python3.7/dist-packages (from mlflow) (1.1.4)\n",
            "Requirement already satisfied: entrypoints in /usr/local/lib/python3.7/dist-packages (from mlflow) (0.3)\n",
            "Collecting alembic<=1.4.1\n",
            "  Downloading alembic-1.4.1.tar.gz (1.1 MB)\n",
            "\u001b[K     |████████████████████████████████| 1.1 MB 77.6 MB/s \n",
            "\u001b[?25hRequirement already satisfied: importlib-metadata!=4.7.0,>=3.7.0 in /usr/local/lib/python3.7/dist-packages (from mlflow) (4.8.2)\n",
            "Requirement already satisfied: pytz in /usr/local/lib/python3.7/dist-packages (from mlflow) (2018.9)\n",
            "Collecting gitpython>=2.1.0\n",
            "  Downloading GitPython-3.1.24-py3-none-any.whl (180 kB)\n",
            "\u001b[K     |████████████████████████████████| 180 kB 64.9 MB/s \n",
            "\u001b[?25hRequirement already satisfied: requests>=2.17.3 in /usr/local/lib/python3.7/dist-packages (from mlflow) (2.23.0)\n",
            "Requirement already satisfied: numpy in /usr/local/lib/python3.7/dist-packages (from mlflow) (1.19.5)\n",
            "Requirement already satisfied: click>=7.0 in /usr/local/lib/python3.7/dist-packages (from mlflow) (7.1.2)\n",
            "Collecting gunicorn\n",
            "  Downloading gunicorn-20.1.0-py3-none-any.whl (79 kB)\n",
            "\u001b[K     |████████████████████████████████| 79 kB 7.5 MB/s \n",
            "\u001b[?25hRequirement already satisfied: cloudpickle in /usr/local/lib/python3.7/dist-packages (from mlflow) (1.3.0)\n",
            "Requirement already satisfied: packaging in /usr/local/lib/python3.7/dist-packages (from mlflow) (21.3)\n",
            "Requirement already satisfied: sqlparse>=0.3.1 in /usr/local/lib/python3.7/dist-packages (from mlflow) (0.4.2)\n",
            "Collecting docker>=4.0.0\n",
            "  Downloading docker-5.0.3-py2.py3-none-any.whl (146 kB)\n",
            "\u001b[K     |████████████████████████████████| 146 kB 75.9 MB/s \n",
            "\u001b[?25hCollecting Mako\n",
            "  Downloading Mako-1.1.6-py2.py3-none-any.whl (75 kB)\n",
            "\u001b[K     |████████████████████████████████| 75 kB 4.0 MB/s \n",
            "\u001b[?25hCollecting python-editor>=0.3\n",
            "  Downloading python_editor-1.0.4-py3-none-any.whl (4.9 kB)\n",
            "Requirement already satisfied: python-dateutil in /usr/local/lib/python3.7/dist-packages (from alembic<=1.4.1->mlflow) (2.8.2)\n",
            "Requirement already satisfied: tabulate>=0.7.7 in /usr/local/lib/python3.7/dist-packages (from databricks-cli>=0.8.7->mlflow) (0.8.9)\n",
            "Requirement already satisfied: six>=1.10.0 in /usr/local/lib/python3.7/dist-packages (from databricks-cli>=0.8.7->mlflow) (1.15.0)\n",
            "Collecting websocket-client>=0.32.0\n",
            "  Downloading websocket_client-1.2.1-py2.py3-none-any.whl (52 kB)\n",
            "\u001b[K     |████████████████████████████████| 52 kB 1.2 MB/s \n",
            "\u001b[?25hCollecting gitdb<5,>=4.0.1\n",
            "  Downloading gitdb-4.0.9-py3-none-any.whl (63 kB)\n",
            "\u001b[K     |████████████████████████████████| 63 kB 1.5 MB/s \n",
            "\u001b[?25hRequirement already satisfied: typing-extensions>=3.7.4.3 in /usr/local/lib/python3.7/dist-packages (from gitpython>=2.1.0->mlflow) (3.10.0.2)\n",
            "Collecting smmap<6,>=3.0.1\n",
            "  Downloading smmap-5.0.0-py3-none-any.whl (24 kB)\n",
            "Requirement already satisfied: zipp>=0.5 in /usr/local/lib/python3.7/dist-packages (from importlib-metadata!=4.7.0,>=3.7.0->mlflow) (3.6.0)\n",
            "Requirement already satisfied: certifi>=2017.4.17 in /usr/local/lib/python3.7/dist-packages (from requests>=2.17.3->mlflow) (2021.10.8)\n",
            "Requirement already satisfied: urllib3!=1.25.0,!=1.25.1,<1.26,>=1.21.1 in /usr/local/lib/python3.7/dist-packages (from requests>=2.17.3->mlflow) (1.24.3)\n",
            "Requirement already satisfied: idna<3,>=2.5 in /usr/local/lib/python3.7/dist-packages (from requests>=2.17.3->mlflow) (2.10)\n",
            "Requirement already satisfied: chardet<4,>=3.0.2 in /usr/local/lib/python3.7/dist-packages (from requests>=2.17.3->mlflow) (3.0.4)\n",
            "Requirement already satisfied: greenlet!=0.4.17 in /usr/local/lib/python3.7/dist-packages (from sqlalchemy->mlflow) (1.1.2)\n",
            "Requirement already satisfied: itsdangerous<2.0,>=0.24 in /usr/local/lib/python3.7/dist-packages (from Flask->mlflow) (1.1.0)\n",
            "Requirement already satisfied: Werkzeug<2.0,>=0.15 in /usr/local/lib/python3.7/dist-packages (from Flask->mlflow) (1.0.1)\n",
            "Requirement already satisfied: Jinja2<3.0,>=2.10.1 in /usr/local/lib/python3.7/dist-packages (from Flask->mlflow) (2.11.3)\n",
            "Requirement already satisfied: MarkupSafe>=0.23 in /usr/local/lib/python3.7/dist-packages (from Jinja2<3.0,>=2.10.1->Flask->mlflow) (2.0.1)\n",
            "Requirement already satisfied: setuptools>=3.0 in /usr/local/lib/python3.7/dist-packages (from gunicorn->mlflow) (57.4.0)\n",
            "Requirement already satisfied: pyparsing!=3.0.5,>=2.0.2 in /usr/local/lib/python3.7/dist-packages (from packaging->mlflow) (3.0.6)\n",
            "Requirement already satisfied: prometheus-client in /usr/local/lib/python3.7/dist-packages (from prometheus-flask-exporter->mlflow) (0.12.0)\n",
            "Building wheels for collected packages: pykalman, alembic, databricks-cli\n",
            "  Building wheel for pykalman (setup.py) ... \u001b[?25l\u001b[?25hdone\n",
            "  Created wheel for pykalman: filename=pykalman-0.9.5-py3-none-any.whl size=48461 sha256=d05f6476bc4feb3797bbc21fe41057216eb11a066bc094521579eff0eff8b050\n",
            "  Stored in directory: /root/.cache/pip/wheels/6a/04/02/2dda6ea59c66d9e685affc8af3a31ad3a5d87b7311689efce6\n",
            "  Building wheel for alembic (setup.py) ... \u001b[?25l\u001b[?25hdone\n",
            "  Created wheel for alembic: filename=alembic-1.4.1-py2.py3-none-any.whl size=158172 sha256=a94c7b2e2366effed7bec4807794c40ef93c6a0811046a6b249e617e13931165\n",
            "  Stored in directory: /root/.cache/pip/wheels/be/5d/0a/9e13f53f4f5dfb67cd8d245bb7cdffe12f135846f491a283e3\n",
            "  Building wheel for databricks-cli (setup.py) ... \u001b[?25l\u001b[?25hdone\n",
            "  Created wheel for databricks-cli: filename=databricks_cli-0.16.2-py3-none-any.whl size=106811 sha256=e27aff233a70214f0e0fa62599829eca1e1ebfed584bf363a1896e4707c787ba\n",
            "  Stored in directory: /root/.cache/pip/wheels/f4/5c/ed/e1ce20a53095f63b27b4964abbad03e59cf3472822addf7d29\n",
            "Successfully built pykalman alembic databricks-cli\n",
            "Installing collected packages: smmap, websocket-client, python-editor, Mako, gitdb, querystring-parser, pyyaml, prometheus-flask-exporter, gunicorn, gitpython, docker, databricks-cli, alembic, pykalman, mlflow\n",
            "  Attempting uninstall: pyyaml\n",
            "    Found existing installation: PyYAML 3.13\n",
            "    Uninstalling PyYAML-3.13:\n",
            "      Successfully uninstalled PyYAML-3.13\n",
            "Successfully installed Mako-1.1.6 alembic-1.4.1 databricks-cli-0.16.2 docker-5.0.3 gitdb-4.0.9 gitpython-3.1.24 gunicorn-20.1.0 mlflow-1.22.0 prometheus-flask-exporter-0.18.6 pykalman-0.9.5 python-editor-1.0.4 pyyaml-6.0 querystring-parser-1.2.4 smmap-5.0.0 websocket-client-1.2.1\n"
          ]
        }
      ]
    },
    {
      "cell_type": "markdown",
      "metadata": {
        "id": "79ZQLzZ2Hlqd"
      },
      "source": [
        "Importar las librerias necesarias.\n",
        "\n",
        "*   Pandas: En Computación y Ciencia de datos, Pandas es una biblioteca de software escrita como extensión de NumPy para manipulación y análisis de datos para el lenguaje de programación Python. En particular, ofrece estructuras de datos y operaciones para manipular tablas numéricas y series temporales.\n",
        "*   The sklearn. metrics module implements several loss, score, and utility functions to measure classification performance. Some metrics might require probability estimates of the positive class, confidence values, or binary decisions values.\n",
        "\n",
        "\n",
        "*   TensorFlow es una biblioteca de código abierto para aprendizaje automático a través de un rango de tareas, y desarrollado por Google para satisfacer sus necesidades de sistemas capaces de construir y entrenar redes neuronales para detectar y descifrar patrones y correlaciones, análogos al aprendizaje y razonamiento usados por los humanos.1​ \n",
        "*   MLflow es una plataforma de código abierto para administrar el ciclo de vida completo del aprendizaje automático. Proyectos: Permiten empaquetar el código de Machine Learning en una forma reutilizable y reproducible para compartirlo con otros científicos de datos o transferirlos a producción.\n",
        "*  Pykalman Libreria en python que implementa el filtro Kalman."
      ]
    },
    {
      "cell_type": "code",
      "metadata": {
        "id": "e6GE6yz55gaV"
      },
      "source": [
        "import numpy as np\n",
        "import pandas as pd   \n",
        "import matplotlib.pyplot as plt\n",
        "import datetime\n",
        "from sklearn.metrics import mean_absolute_error\n",
        "\n",
        "from typing import Tuple, Dict\n",
        "\n",
        "import tensorflow as tf\n",
        "from tensorflow.keras.layers import *\n",
        "from tensorflow.keras.models import *\n",
        "from tensorflow.keras.callbacks import * \n",
        "from tensorflow.keras.optimizers import *\n",
        "from tensorflow.keras import backend as K\n",
        "\n",
        "import os\n",
        "\n",
        "from mlflow import log_metric, log_param, log_artifacts\n",
        "\n",
        "import warnings\n",
        "warnings.filterwarnings(\"ignore\")\n",
        "\n",
        "from pykalman import KalmanFilter"
      ],
      "execution_count": 3,
      "outputs": []
    },
    {
      "cell_type": "markdown",
      "metadata": {
        "id": "mW7cr9PlKOAV"
      },
      "source": [
        "En esta seccion que guardan los parametros del modelo y los datos que seran usados en MLFlow. CRIPTO es el nombre del par de la criptomoneda que se va a utilizar, VELAS es el periodo de actualizacion del con que ha sido construido el dataset. Con log_param() se van a crear los parametros de la libreria MLFlow. El diccionario 'param' almacena los parametros a utilizar en el modelo."
      ]
    },
    {
      "cell_type": "code",
      "metadata": {
        "id": "w7zvnwF8muY0"
      },
      "source": [
        "CRIPTO = 'ADAEUR'\n",
        "VELAS = '15m'\n",
        "log_param(\"moneda\", CRIPTO)\n",
        "log_param(\"velas\", VELAS)\n",
        "\n",
        "SEQUENCE_LENGHT = 100\n",
        "\n",
        "param = {\n",
        "    'unit': 50,\n",
        "    't2v_dim': 50,\n",
        "    'lr': 1e-2, \n",
        "    'act': 'relu', \n",
        "    'epochs': 10,\n",
        "    'batch_size': 100\n",
        "}\n"
      ],
      "execution_count": 4,
      "outputs": []
    },
    {
      "cell_type": "markdown",
      "metadata": {
        "id": "mpezYWbkKh1c"
      },
      "source": [
        "Se monta la unidad de Driver don de esta guardado el Dataset, en este caso es colab permite mediante la libreria de google acceder a google drive."
      ]
    },
    {
      "cell_type": "code",
      "metadata": {
        "colab": {
          "base_uri": "https://localhost:8080/"
        },
        "id": "AdnVmWy93NLF",
        "outputId": "59774a04-3b29-44d4-a6ac-ba8837afb1a9"
      },
      "source": [
        "from google.colab import drive\n",
        "drive.mount('/content/drive')"
      ],
      "execution_count": 5,
      "outputs": [
        {
          "output_type": "stream",
          "name": "stdout",
          "text": [
            "Mounted at /content/drive\n"
          ]
        }
      ]
    },
    {
      "cell_type": "markdown",
      "metadata": {
        "id": "6bzGW6e-KwWe"
      },
      "source": [
        "Se define el direcctorio dentro de la unidad de google driver y el nombre del dataset que esta en formato csv."
      ]
    },
    {
      "cell_type": "code",
      "metadata": {
        "id": "5UyRVxkJmuY1"
      },
      "source": [
        "dir='/content/drive/MyDrive/Maestria 2 año 1 semestre/Инструментальные платформы прогнозной аналитики (Куляница Андрей Леонидович)/'\n",
        "dataSetFile='2021.csv'\n",
        "df = pd.read_csv(dir+dataSetFile)"
      ],
      "execution_count": 6,
      "outputs": []
    },
    {
      "cell_type": "code",
      "metadata": {
        "id": "iJ9UVkKQmuY3",
        "colab": {
          "base_uri": "https://localhost:8080/"
        },
        "outputId": "bb727314-dddf-4a13-beca-52fbc12b738f"
      },
      "source": [
        "df.shape"
      ],
      "execution_count": 7,
      "outputs": [
        {
          "output_type": "execute_result",
          "data": {
            "text/plain": [
              "(500, 8)"
            ]
          },
          "metadata": {},
          "execution_count": 7
        }
      ]
    },
    {
      "cell_type": "code",
      "metadata": {
        "colab": {
          "base_uri": "https://localhost:8080/",
          "height": 206
        },
        "id": "CrMIcObOmuY5",
        "outputId": "ff1d37ae-a8bf-494c-ffc1-a21483c3186b"
      },
      "source": [
        "df.head()"
      ],
      "execution_count": 8,
      "outputs": [
        {
          "output_type": "execute_result",
          "data": {
            "text/html": [
              "<div>\n",
              "<style scoped>\n",
              "    .dataframe tbody tr th:only-of-type {\n",
              "        vertical-align: middle;\n",
              "    }\n",
              "\n",
              "    .dataframe tbody tr th {\n",
              "        vertical-align: top;\n",
              "    }\n",
              "\n",
              "    .dataframe thead th {\n",
              "        text-align: right;\n",
              "    }\n",
              "</style>\n",
              "<table border=\"1\" class=\"dataframe\">\n",
              "  <thead>\n",
              "    <tr style=\"text-align: right;\">\n",
              "      <th></th>\n",
              "      <th>Unnamed: 0</th>\n",
              "      <th>time</th>\n",
              "      <th>open</th>\n",
              "      <th>high</th>\n",
              "      <th>low</th>\n",
              "      <th>close</th>\n",
              "      <th>volume</th>\n",
              "      <th>date</th>\n",
              "    </tr>\n",
              "  </thead>\n",
              "  <tbody>\n",
              "    <tr>\n",
              "      <th>0</th>\n",
              "      <td>0</td>\n",
              "      <td>1.637779e+12</td>\n",
              "      <td>1.629</td>\n",
              "      <td>1.631</td>\n",
              "      <td>1.615</td>\n",
              "      <td>1.615</td>\n",
              "      <td>1926807.4</td>\n",
              "      <td>1975-03-11 13:51:00</td>\n",
              "    </tr>\n",
              "    <tr>\n",
              "      <th>1</th>\n",
              "      <td>1</td>\n",
              "      <td>1.637780e+12</td>\n",
              "      <td>1.616</td>\n",
              "      <td>1.618</td>\n",
              "      <td>1.611</td>\n",
              "      <td>1.615</td>\n",
              "      <td>2393867.9</td>\n",
              "      <td>1975-03-11 13:52:30</td>\n",
              "    </tr>\n",
              "    <tr>\n",
              "      <th>2</th>\n",
              "      <td>2</td>\n",
              "      <td>1.637780e+12</td>\n",
              "      <td>1.614</td>\n",
              "      <td>1.618</td>\n",
              "      <td>1.601</td>\n",
              "      <td>1.605</td>\n",
              "      <td>3254583.7</td>\n",
              "      <td>1975-03-11 13:54:00</td>\n",
              "    </tr>\n",
              "    <tr>\n",
              "      <th>3</th>\n",
              "      <td>3</td>\n",
              "      <td>1.637781e+12</td>\n",
              "      <td>1.605</td>\n",
              "      <td>1.614</td>\n",
              "      <td>1.604</td>\n",
              "      <td>1.607</td>\n",
              "      <td>2101630.6</td>\n",
              "      <td>1975-03-11 13:55:30</td>\n",
              "    </tr>\n",
              "    <tr>\n",
              "      <th>4</th>\n",
              "      <td>4</td>\n",
              "      <td>1.637782e+12</td>\n",
              "      <td>1.607</td>\n",
              "      <td>1.620</td>\n",
              "      <td>1.606</td>\n",
              "      <td>1.618</td>\n",
              "      <td>1992281.9</td>\n",
              "      <td>1975-03-11 13:57:00</td>\n",
              "    </tr>\n",
              "  </tbody>\n",
              "</table>\n",
              "</div>"
            ],
            "text/plain": [
              "   Unnamed: 0          time   open  ...  close     volume                 date\n",
              "0           0  1.637779e+12  1.629  ...  1.615  1926807.4  1975-03-11 13:51:00\n",
              "1           1  1.637780e+12  1.616  ...  1.615  2393867.9  1975-03-11 13:52:30\n",
              "2           2  1.637780e+12  1.614  ...  1.605  3254583.7  1975-03-11 13:54:00\n",
              "3           3  1.637781e+12  1.605  ...  1.607  2101630.6  1975-03-11 13:55:30\n",
              "4           4  1.637782e+12  1.607  ...  1.618  1992281.9  1975-03-11 13:57:00\n",
              "\n",
              "[5 rows x 8 columns]"
            ]
          },
          "metadata": {},
          "execution_count": 8
        }
      ]
    },
    {
      "cell_type": "markdown",
      "metadata": {
        "id": "gK8tGSxXQHkB"
      },
      "source": [
        "Esta grafica se muestra el comportamiento de los precios de cierre en este intervalo de tiempo."
      ]
    },
    {
      "cell_type": "code",
      "metadata": {
        "colab": {
          "base_uri": "https://localhost:8080/",
          "height": 391
        },
        "id": "JU9vb7IV8TbL",
        "outputId": "d7fc801f-dc46-49b6-b4d8-1f8d86106e64"
      },
      "source": [
        "df['close'].plot(figsize=(8,6))"
      ],
      "execution_count": 9,
      "outputs": [
        {
          "output_type": "execute_result",
          "data": {
            "text/plain": [
              "<matplotlib.axes._subplots.AxesSubplot at 0x7f6696fc7610>"
            ]
          },
          "metadata": {},
          "execution_count": 9
        },
        {
          "output_type": "display_data",
          "data": {
            "image/png": "[encoded data removed]",
            "text/plain": [
              "<Figure size 576x432 with 1 Axes>"
            ]
          },
          "metadata": {
            "needs_background": "light"
          }
        }
      ]
    },
    {
      "cell_type": "markdown",
      "metadata": {
        "id": "L2MIr-w5QaeC"
      },
      "source": [
        "Se define la funcion de Kalma, la cual basicamente se utiliza para quitar ruedo de la grafica de cierres, que lo que interesa es la tendencia del mercado y no las oscilaciones exactas que tiene la grafica de precios."
      ]
    },
    {
      "cell_type": "code",
      "metadata": {
        "id": "99FJZGM080DB"
      },
      "source": [
        "\n",
        "def KalmanTransform(df: pd.DataFrame,variable: str = 'close') -> None:\n",
        "    kf = KalmanFilter(transition_matrices = [1],\n",
        "                  observation_matrices = [1],\n",
        "                  initial_state_mean =df['{}'.format(variable)].values.mean(),\n",
        "                  initial_state_covariance = 1,\n",
        "                  observation_covariance=1,\n",
        "                  transition_covariance=.05)\n",
        "    state_means, _ = kf.filter(df[variable].values)\n",
        "    df['kalman'] = pd.Series(state_means.flatten(), index=df.index)"
      ],
      "execution_count": 10,
      "outputs": []
    },
    {
      "cell_type": "markdown",
      "metadata": {
        "id": "ibkMOlKbUEJ2"
      },
      "source": [
        "Se repite la funcion anterior para graficar el resultado de aplicar Kalman a set de datos de los precios de cierre"
      ]
    },
    {
      "cell_type": "code",
      "metadata": {
        "id": "g4JyDndM88fI"
      },
      "source": [
        "df_tmp=df.copy()\n",
        "\n",
        "kf = KalmanFilter(transition_matrices = [1],\n",
        "              observation_matrices = [1],\n",
        "              initial_state_mean =df_tmp['close'].values.mean(),\n",
        "              initial_state_covariance = 1,\n",
        "              observation_covariance=1,\n",
        "              transition_covariance=.05)\n",
        "state_means, _ = kf.filter(df_tmp['close'].values)\n",
        "df_tmp['kalman'] = pd.Series(state_means.flatten(), index=df.index)"
      ],
      "execution_count": 11,
      "outputs": []
    },
    {
      "cell_type": "markdown",
      "metadata": {
        "id": "Zjz0TGXvUVao"
      },
      "source": [
        "Se grafican ambas funciones, la funcion original que esta en azul, y el resultado de aplicar el filtro kalman, como se puede observar, se obtiene una linea suavizada que representa la tendencia aproximanda de la grafica, es como si se hubiera eliminado el movimiento aleatrorio de las variaciones de precio, y obtenemos la tendencia general del mercado."
      ]
    },
    {
      "cell_type": "code",
      "metadata": {
        "colab": {
          "base_uri": "https://localhost:8080/",
          "height": 500
        },
        "id": "5wE8rCCz9WKh",
        "outputId": "33b51e52-179e-4dc7-a9ab-eb7da0c0e41c"
      },
      "source": [
        "df_tmp[['close','kalman']][100:1000].plot(figsize=(12,8))"
      ],
      "execution_count": 12,
      "outputs": [
        {
          "output_type": "execute_result",
          "data": {
            "text/plain": [
              "<matplotlib.axes._subplots.AxesSubplot at 0x7f6697051d50>"
            ]
          },
          "metadata": {},
          "execution_count": 12
        },
        {
          "output_type": "display_data",
          "data": {
            "image/png": "[encoded data removed]",
            "text/plain": [
              "<Figure size 864x576 with 1 Axes>"
            ]
          },
          "metadata": {
            "needs_background": "light"
          }
        }
      ]
    },
    {
      "cell_type": "markdown",
      "metadata": {
        "id": "PKo7vTD1V3L2"
      },
      "source": [
        "Para poder crear un algoritmo de machinlearning crearemo una serie temporal, para poder entrenar el algorimo de aprendizaje supervisado. La serie que hasta el momento esta almacenada en una lista, ahora se almacenara en una matriz de 5XN elementos, donde se tomaran 5 elementos y el sexto sera el valor targuet. Luego para entrenar nuetro algoritmo tenemo una matriz de 5XN elementos y una lista con los valores target. "
      ]
    },
    {
      "cell_type": "markdown",
      "metadata": {
        "id": "dp6az5Ktvqkp"
      },
      "source": [
        "https://www.cienciadedatos.net/images/transform_timeseries.gif"
      ]
    },
    {
      "cell_type": "code",
      "metadata": {
        "id": "yYSjYeLHvoeg"
      },
      "source": [
        "\n",
        "def gen_sequence(id_df: pd.DataFrame, seq_length: int, seq_cols: str):\n",
        "    \n",
        "    data_matrix = id_df[seq_cols].values\n",
        "    num_elements = data_matrix.shape[0]\n",
        "\n",
        "    for start, stop in zip(range(0, num_elements-seq_length), range(seq_length, num_elements)):\n",
        "        yield data_matrix[start:stop, :]\n",
        "        \n",
        "\n",
        "\n",
        "def gen_labels(id_df: pd.DataFrame, seq_length: int, label: str):\n",
        "    \n",
        "    data_matrix = id_df[label].values\n",
        "    num_elements = data_matrix.shape[0]\n",
        "    \n",
        "    return data_matrix[seq_length:num_elements, :]"
      ],
      "execution_count": 13,
      "outputs": []
    },
    {
      "cell_type": "markdown",
      "metadata": {
        "id": "a7VUmqV0Xe5S"
      },
      "source": [
        "Ahora la serie temporal debe ser convertida en una serie Time2Vec, en el articulo se pantea que cualquier serie temporal puede ser representada con una funcion, que tiene una componente lineal y otra periodica; para esto es preciso determinar los pesos de las funciones, usando como entrenamiento el dataset.\n",
        "\n",
        "Cada neurona e input va a ser transformada en un vector que tiene los pesos de la funcion Time2Vec."
      ]
    },
    {
      "cell_type": "markdown",
      "metadata": {
        "id": "kIRW1vkBoXwC"
      },
      "source": [
        "Paper: https://arxiv.org/pdf/1907.05321.pdf\n",
        "\n",
        "\n"
      ]
    },
    {
      "cell_type": "code",
      "metadata": {
        "id": "HgIagG488aP9"
      },
      "source": [
        "class T2V(Layer):\n",
        "    \n",
        "    def __init__(self, output_dim=None, **kwargs):\n",
        "        self.output_dim = output_dim\n",
        "        super(T2V, self).__init__(**kwargs)\n",
        "        \n",
        "    def build(self, input_shape):\n",
        "\n",
        "        self.W = self.add_weight(name='W',\n",
        "                                shape=(input_shape[-1], self.output_dim),\n",
        "                                initializer='uniform',\n",
        "                                trainable=True)\n",
        "\n",
        "        self.P = self.add_weight(name='P',\n",
        "                                shape=(input_shape[1], self.output_dim),\n",
        "                                initializer='uniform',\n",
        "                                trainable=True)\n",
        "\n",
        "        self.w = self.add_weight(name='w',\n",
        "                                shape=(input_shape[1], 1),\n",
        "                                initializer='uniform',\n",
        "                                trainable=True)\n",
        "\n",
        "        self.p = self.add_weight(name='p',\n",
        "                                shape=(input_shape[1], 1),\n",
        "                                initializer='uniform',\n",
        "                                trainable=True)\n",
        "\n",
        "        super(T2V, self).build(input_shape)\n",
        "        \n",
        "    def call(self, x):\n",
        "        \n",
        "        original = self.w * x + self.p\n",
        "        sin_trans = K.sin(K.dot(x, self.W) + self.P)\n",
        "        \n",
        "        return K.concatenate([sin_trans, original], -1)\n"
      ],
      "execution_count": 14,
      "outputs": []
    },
    {
      "cell_type": "markdown",
      "metadata": {
        "id": "zyeMIoYaclTe"
      },
      "source": [
        "Se crea el modelo usando una red neuronal LSTM(Long short-term memory) que es una arquitectura de red neuronal recurrente artificial utilizada en el campo del aprendizaje profundo. A diferencia de las redes neuronales de retroalimentación estándar, LSTM tiene conexiones de retroalimentación."
      ]
    },
    {
      "cell_type": "code",
      "metadata": {
        "id": "0Ry59Uk5cg-R"
      },
      "source": [
        "### CREATE GENERATOR FOR LSTM AND T2V ###\n",
        "\n",
        "def T2V_NN(param: Dict, dim: int = SEQUENCE_LENGHT):\n",
        "    for key in param:\n",
        "        log_param(key, param[key])\n",
        "    inp = Input(shape=(dim,1))\n",
        "    x = T2V(param['t2v_dim'])(inp)\n",
        "    x = LSTM(param['unit'], activation=param['act'])(x)\n",
        "    x = Dense(1)(x)\n",
        "    \n",
        "    m = Model(inp, x)\n",
        "    m.compile(loss='mse', optimizer=Adam(lr=param['lr']))\n",
        "    \n",
        "    return m"
      ],
      "execution_count": null,
      "outputs": []
    },
    {
      "cell_type": "code",
      "metadata": {
        "id": "6h7fMWB6muY8"
      },
      "source": [
        "\n",
        "### PREPARE DATA TO FEED MODELS ###\n",
        "def PrepareData(df: pd.DataFrame, KALMAN: bool = False, predict_variable: str = 'close', sequence_length: int = SEQUENCE_LENGHT)-> Tuple:\n",
        "    X, Y = [], []\n",
        "    log_param(\"kalman\", KALMAN)\n",
        "    log_param('sequence_length',sequence_length)\n",
        "    if KALMAN:\n",
        "        KalmanTransform(df, predict_variable)\n",
        "        for sequence in gen_sequence(df, sequence_length, ['kalman']):\n",
        "            X.append(sequence)\n",
        "    else:\n",
        "        for sequence in gen_sequence(df, sequence_length, [predict_variable]):\n",
        "            X.append(sequence)\n",
        "\n",
        "    for sequence in gen_labels(df, sequence_length, [predict_variable]):\n",
        "        Y.append(sequence)\n",
        "\n",
        "    X = np.asarray(X)\n",
        "    Y = np.asarray(Y)    "
      ],
      "execution_count": 15,
      "outputs": []
    },
    {
      "cell_type": "code",
      "metadata": {
        "id": "Mnfcw8J5fNKQ"
      },
      "source": [
        "### TRAIN TEST SPLIT ###\n",
        "\n",
        "    train_dim = int(0.7*len(df))\n",
        "    X_train, X_test = X[:train_dim], X[train_dim:]\n",
        "    y_train, y_test = Y[:train_dim], Y[train_dim:]\n",
        "\n",
        "    print('Train shape X: '+str(X_train.shape)+' y: '+str(y_train.shape))\n",
        "    print('Test shape X: '+str(X_test.shape)+' y: '+str(y_test.shape))\n",
        "    return (X_train,X_test,y_train,y_test)\n"
      ],
      "execution_count": null,
      "outputs": []
    },
    {
      "cell_type": "code",
      "metadata": {
        "colab": {
          "base_uri": "https://localhost:8080/"
        },
        "id": "25P9DZOe_MEs",
        "outputId": "94ce34ea-7d9d-4522-ff80-62d3bcedde35"
      },
      "source": [
        "### DEFINE PARAM GRID FOR HYPERPARM OPTIMIZATION ###\n",
        "\n",
        "m=T2V_NN(param)\n",
        "print(m.summary())"
      ],
      "execution_count": 16,
      "outputs": [
        {
          "output_type": "stream",
          "name": "stdout",
          "text": [
            "Model: \"model\"\n",
            "_________________________________________________________________\n",
            " Layer (type)                Output Shape              Param #   \n",
            "=================================================================\n",
            " input_1 (InputLayer)        [(None, 100, 1)]          0         \n",
            "                                                                 \n",
            " t2v (T2V)                   (None, 100, 51)           5250      \n",
            "                                                                 \n",
            " lstm (LSTM)                 (None, 50)                20400     \n",
            "                                                                 \n",
            " dense (Dense)               (None, 1)                 51        \n",
            "                                                                 \n",
            "=================================================================\n",
            "Total params: 25,701\n",
            "Trainable params: 25,701\n",
            "Non-trainable params: 0\n",
            "_________________________________________________________________\n",
            "None\n"
          ]
        }
      ]
    },
    {
      "cell_type": "code",
      "metadata": {
        "colab": {
          "base_uri": "https://localhost:8080/"
        },
        "id": "9UFCJsDzmuY9",
        "outputId": "951d67a7-c65d-407a-e086-6bd50ae9b36e"
      },
      "source": [
        "X_train,X_test,y_train,y_test=PrepareData(df,KALMAN=False)"
      ],
      "execution_count": 17,
      "outputs": [
        {
          "output_type": "stream",
          "name": "stdout",
          "text": [
            "Train shape X: (350, 100, 1) y: (350, 1)\n",
            "Test shape X: (50, 100, 1) y: (50, 1)\n"
          ]
        }
      ]
    },
    {
      "cell_type": "code",
      "metadata": {
        "colab": {
          "base_uri": "https://localhost:8080/"
        },
        "id": "a0PSAWCUAIkM",
        "outputId": "b99c83d6-aa79-40c7-841c-4c262b7d8f3c"
      },
      "source": [
        "m.fit(X_train,y_train, batch_size=param['batch_size'],epochs=param['epochs'])"
      ],
      "execution_count": 18,
      "outputs": [
        {
          "output_type": "stream",
          "name": "stdout",
          "text": [
            "Epoch 1/10\n",
            "4/4 [==============================] - 2s 60ms/step - loss: 1.6418\n",
            "Epoch 2/10\n",
            "4/4 [==============================] - 0s 56ms/step - loss: nan\n",
            "Epoch 3/10\n",
            "4/4 [==============================] - 0s 59ms/step - loss: nan\n",
            "Epoch 4/10\n",
            "4/4 [==============================] - 0s 56ms/step - loss: nan\n",
            "Epoch 5/10\n",
            "4/4 [==============================] - 0s 57ms/step - loss: nan\n",
            "Epoch 6/10\n",
            "4/4 [==============================] - 0s 63ms/step - loss: nan\n",
            "Epoch 7/10\n",
            "4/4 [==============================] - 0s 55ms/step - loss: nan\n",
            "Epoch 8/10\n",
            "4/4 [==============================] - 0s 57ms/step - loss: nan\n",
            "Epoch 9/10\n",
            "4/4 [==============================] - 0s 57ms/step - loss: nan\n",
            "Epoch 10/10\n",
            "4/4 [==============================] - 0s 54ms/step - loss: nan\n"
          ]
        },
        {
          "output_type": "execute_result",
          "data": {
            "text/plain": [
              "<keras.callbacks.History at 0x7f6692793710>"
            ]
          },
          "metadata": {},
          "execution_count": 18
        }
      ]
    },
    {
      "cell_type": "code",
      "metadata": {
        "id": "626bz4tSAa7D"
      },
      "source": [
        "pred = m.predict(X_test).ravel()\n"
      ],
      "execution_count": 19,
      "outputs": []
    },
    {
      "cell_type": "code",
      "metadata": {
        "colab": {
          "base_uri": "https://localhost:8080/",
          "height": 407
        },
        "id": "YmFW_2SrBKNN",
        "outputId": "333279d4-f212-40dd-e30a-e6f91caffc79"
      },
      "source": [
        "plt.figure(figsize=(12,6))\n",
        "\n",
        "plt.plot(pred, label='T2V')\n",
        "plt.plot(y_test.ravel(), label='true')\n",
        "plt.title('T2V predict'); plt.legend()"
      ],
      "execution_count": 20,
      "outputs": [
        {
          "output_type": "execute_result",
          "data": {
            "text/plain": [
              "<matplotlib.legend.Legend at 0x7f66926ec210>"
            ]
          },
          "metadata": {},
          "execution_count": 20
        },
        {
          "output_type": "display_data",
          "data": {
            "image/png": "[encoded data removed]",
            "text/plain": [
              "<Figure size 864x432 with 1 Axes>"
            ]
          },
          "metadata": {
            "needs_background": "light"
          }
        }
      ]
    },
    {
      "cell_type": "code",
      "metadata": {
        "colab": {
          "base_uri": "https://localhost:8080/",
          "height": 407
        },
        "id": "TfBPpvyrB2z2",
        "outputId": "85454bf1-1281-4195-d997-7500af9804eb"
      },
      "source": [
        "plt.figure(figsize=(12,6))\n",
        "\n",
        "plt.plot(pred[:100], label='T2V')\n",
        "plt.plot(y_test[:100].ravel(), label='true')\n",
        "plt.title('T2V predict'); plt.legend()"
      ],
      "execution_count": 21,
      "outputs": [
        {
          "output_type": "execute_result",
          "data": {
            "text/plain": [
              "<matplotlib.legend.Legend at 0x7f669260ebd0>"
            ]
          },
          "metadata": {},
          "execution_count": 21
        },
        {
          "output_type": "display_data",
          "data": {
            "image/png": "[encoded data removed]",
            "text/plain": [
              "<Figure size 864x432 with 1 Axes>"
            ]
          },
          "metadata": {
            "needs_background": "light"
          }
        }
      ]
    },
    {
      "cell_type": "code",
      "metadata": {
        "colab": {
          "base_uri": "https://localhost:8080/",
          "height": 328
        },
        "id": "80yb6R_WCHR4",
        "outputId": "bdb783ac-f410-4d85-cf01-4b4fa7545412"
      },
      "source": [
        "print(mean_absolute_error(y_test.ravel(), pred))\n",
        "log_metric(\"MAE\",mean_absolute_error(y_test.ravel(), pred)) "
      ],
      "execution_count": 22,
      "outputs": [
        {
          "output_type": "error",
          "ename": "ValueError",
          "evalue": "ignored",
          "traceback": [
            "\u001b[0;31m---------------------------------------------------------------------------\u001b[0m",
            "\u001b[0;31mValueError\u001b[0m                                Traceback (most recent call last)",
            "\u001b[0;32m<ipython-input-22-dcc22e397be9>\u001b[0m in \u001b[0;36m<module>\u001b[0;34m()\u001b[0m\n\u001b[0;32m----> 1\u001b[0;31m \u001b[0mprint\u001b[0m\u001b[0;34m(\u001b[0m\u001b[0mmean_absolute_error\u001b[0m\u001b[0;34m(\u001b[0m\u001b[0my_test\u001b[0m\u001b[0;34m.\u001b[0m\u001b[0mravel\u001b[0m\u001b[0;34m(\u001b[0m\u001b[0;34m)\u001b[0m\u001b[0;34m,\u001b[0m \u001b[0mpred\u001b[0m\u001b[0;34m)\u001b[0m\u001b[0;34m)\u001b[0m\u001b[0;34m\u001b[0m\u001b[0;34m\u001b[0m\u001b[0m\n\u001b[0m\u001b[1;32m      2\u001b[0m \u001b[0mlog_metric\u001b[0m\u001b[0;34m(\u001b[0m\u001b[0;34m\"MAE\"\u001b[0m\u001b[0;34m,\u001b[0m\u001b[0mmean_absolute_error\u001b[0m\u001b[0;34m(\u001b[0m\u001b[0my_test\u001b[0m\u001b[0;34m.\u001b[0m\u001b[0mravel\u001b[0m\u001b[0;34m(\u001b[0m\u001b[0;34m)\u001b[0m\u001b[0;34m,\u001b[0m \u001b[0mpred\u001b[0m\u001b[0;34m)\u001b[0m\u001b[0;34m)\u001b[0m\u001b[0;34m\u001b[0m\u001b[0;34m\u001b[0m\u001b[0m\n",
            "\u001b[0;32m/usr/local/lib/python3.7/dist-packages/sklearn/metrics/_regression.py\u001b[0m in \u001b[0;36mmean_absolute_error\u001b[0;34m(y_true, y_pred, sample_weight, multioutput)\u001b[0m\n\u001b[1;32m    185\u001b[0m     \"\"\"\n\u001b[1;32m    186\u001b[0m     y_type, y_true, y_pred, multioutput = _check_reg_targets(\n\u001b[0;32m--> 187\u001b[0;31m         \u001b[0my_true\u001b[0m\u001b[0;34m,\u001b[0m \u001b[0my_pred\u001b[0m\u001b[0;34m,\u001b[0m \u001b[0mmultioutput\u001b[0m\u001b[0;34m\u001b[0m\u001b[0;34m\u001b[0m\u001b[0m\n\u001b[0m\u001b[1;32m    188\u001b[0m     )\n\u001b[1;32m    189\u001b[0m     \u001b[0mcheck_consistent_length\u001b[0m\u001b[0;34m(\u001b[0m\u001b[0my_true\u001b[0m\u001b[0;34m,\u001b[0m \u001b[0my_pred\u001b[0m\u001b[0;34m,\u001b[0m \u001b[0msample_weight\u001b[0m\u001b[0;34m)\u001b[0m\u001b[0;34m\u001b[0m\u001b[0;34m\u001b[0m\u001b[0m\n",
            "\u001b[0;32m/usr/local/lib/python3.7/dist-packages/sklearn/metrics/_regression.py\u001b[0m in \u001b[0;36m_check_reg_targets\u001b[0;34m(y_true, y_pred, multioutput, dtype)\u001b[0m\n\u001b[1;32m     89\u001b[0m     \u001b[0mcheck_consistent_length\u001b[0m\u001b[0;34m(\u001b[0m\u001b[0my_true\u001b[0m\u001b[0;34m,\u001b[0m \u001b[0my_pred\u001b[0m\u001b[0;34m)\u001b[0m\u001b[0;34m\u001b[0m\u001b[0;34m\u001b[0m\u001b[0m\n\u001b[1;32m     90\u001b[0m     \u001b[0my_true\u001b[0m \u001b[0;34m=\u001b[0m \u001b[0mcheck_array\u001b[0m\u001b[0;34m(\u001b[0m\u001b[0my_true\u001b[0m\u001b[0;34m,\u001b[0m \u001b[0mensure_2d\u001b[0m\u001b[0;34m=\u001b[0m\u001b[0;32mFalse\u001b[0m\u001b[0;34m,\u001b[0m \u001b[0mdtype\u001b[0m\u001b[0;34m=\u001b[0m\u001b[0mdtype\u001b[0m\u001b[0;34m)\u001b[0m\u001b[0;34m\u001b[0m\u001b[0;34m\u001b[0m\u001b[0m\n\u001b[0;32m---> 91\u001b[0;31m     \u001b[0my_pred\u001b[0m \u001b[0;34m=\u001b[0m \u001b[0mcheck_array\u001b[0m\u001b[0;34m(\u001b[0m\u001b[0my_pred\u001b[0m\u001b[0;34m,\u001b[0m \u001b[0mensure_2d\u001b[0m\u001b[0;34m=\u001b[0m\u001b[0;32mFalse\u001b[0m\u001b[0;34m,\u001b[0m \u001b[0mdtype\u001b[0m\u001b[0;34m=\u001b[0m\u001b[0mdtype\u001b[0m\u001b[0;34m)\u001b[0m\u001b[0;34m\u001b[0m\u001b[0;34m\u001b[0m\u001b[0m\n\u001b[0m\u001b[1;32m     92\u001b[0m \u001b[0;34m\u001b[0m\u001b[0m\n\u001b[1;32m     93\u001b[0m     \u001b[0;32mif\u001b[0m \u001b[0my_true\u001b[0m\u001b[0;34m.\u001b[0m\u001b[0mndim\u001b[0m \u001b[0;34m==\u001b[0m \u001b[0;36m1\u001b[0m\u001b[0;34m:\u001b[0m\u001b[0;34m\u001b[0m\u001b[0;34m\u001b[0m\u001b[0m\n",
            "\u001b[0;32m/usr/local/lib/python3.7/dist-packages/sklearn/utils/validation.py\u001b[0m in \u001b[0;36mcheck_array\u001b[0;34m(array, accept_sparse, accept_large_sparse, dtype, order, copy, force_all_finite, ensure_2d, allow_nd, ensure_min_samples, ensure_min_features, estimator)\u001b[0m\n\u001b[1;32m    790\u001b[0m \u001b[0;34m\u001b[0m\u001b[0m\n\u001b[1;32m    791\u001b[0m         \u001b[0;32mif\u001b[0m \u001b[0mforce_all_finite\u001b[0m\u001b[0;34m:\u001b[0m\u001b[0;34m\u001b[0m\u001b[0;34m\u001b[0m\u001b[0m\n\u001b[0;32m--> 792\u001b[0;31m             \u001b[0m_assert_all_finite\u001b[0m\u001b[0;34m(\u001b[0m\u001b[0marray\u001b[0m\u001b[0;34m,\u001b[0m \u001b[0mallow_nan\u001b[0m\u001b[0;34m=\u001b[0m\u001b[0mforce_all_finite\u001b[0m \u001b[0;34m==\u001b[0m \u001b[0;34m\"allow-nan\"\u001b[0m\u001b[0;34m)\u001b[0m\u001b[0;34m\u001b[0m\u001b[0;34m\u001b[0m\u001b[0m\n\u001b[0m\u001b[1;32m    793\u001b[0m \u001b[0;34m\u001b[0m\u001b[0m\n\u001b[1;32m    794\u001b[0m     \u001b[0;32mif\u001b[0m \u001b[0mensure_min_samples\u001b[0m \u001b[0;34m>\u001b[0m \u001b[0;36m0\u001b[0m\u001b[0;34m:\u001b[0m\u001b[0;34m\u001b[0m\u001b[0;34m\u001b[0m\u001b[0m\n",
            "\u001b[0;32m/usr/local/lib/python3.7/dist-packages/sklearn/utils/validation.py\u001b[0m in \u001b[0;36m_assert_all_finite\u001b[0;34m(X, allow_nan, msg_dtype)\u001b[0m\n\u001b[1;32m    114\u001b[0m             raise ValueError(\n\u001b[1;32m    115\u001b[0m                 msg_err.format(\n\u001b[0;32m--> 116\u001b[0;31m                     \u001b[0mtype_err\u001b[0m\u001b[0;34m,\u001b[0m \u001b[0mmsg_dtype\u001b[0m \u001b[0;32mif\u001b[0m \u001b[0mmsg_dtype\u001b[0m \u001b[0;32mis\u001b[0m \u001b[0;32mnot\u001b[0m \u001b[0;32mNone\u001b[0m \u001b[0;32melse\u001b[0m \u001b[0mX\u001b[0m\u001b[0;34m.\u001b[0m\u001b[0mdtype\u001b[0m\u001b[0;34m\u001b[0m\u001b[0;34m\u001b[0m\u001b[0m\n\u001b[0m\u001b[1;32m    117\u001b[0m                 )\n\u001b[1;32m    118\u001b[0m             )\n",
            "\u001b[0;31mValueError\u001b[0m: Input contains NaN, infinity or a value too large for dtype('float32')."
          ]
        }
      ]
    },
    {
      "cell_type": "code",
      "metadata": {
        "id": "iB7zdtqkmuZB"
      },
      "source": [
        "!mlflow ui"
      ],
      "execution_count": null,
      "outputs": []
    },
    {
      "cell_type": "code",
      "metadata": {
        "id": "MU6r7YJNq-S8"
      },
      "source": [
        ""
      ],
      "execution_count": null,
      "outputs": []
    }
  ]
}