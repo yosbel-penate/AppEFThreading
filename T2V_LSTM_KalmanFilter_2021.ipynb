{
  "nbformat": 4,
  "nbformat_minor": 0,
  "metadata": {
    "colab": {
      "name": "T2V_LSTM_KalmanFilter-2.ipynb",
      "provenance": [],
      "collapsed_sections": [],
      "include_colab_link": true
    },
    "kernelspec": {
      "display_name": "Python 3",
      "language": "python",
      "name": "python3"
    },
    "language_info": {
      "codemirror_mode": {
        "name": "ipython",
        "version": 3
      },
      "file_extension": ".py",
      "mimetype": "text/x-python",
      "name": "python",
      "nbconvert_exporter": "python",
      "pygments_lexer": "ipython3",
      "version": "3.6.9"
    }
  },
  "cells": [
    {
      "cell_type": "markdown",
      "metadata": {
        "id": "view-in-github",
        "colab_type": "text"
      },
      "source": [
        "<a href=\"https://colab.research.google.com/github/yosbel-penate/AppEFThreading/blob/master/T2V_LSTM_KalmanFilter_2021.ipynb\" target=\"_parent\"><img src=\"https://colab.research.google.com/assets/colab-badge.svg\" alt=\"Open In Colab\"/></a>"
      ]
    },
    {
      "cell_type": "code",
      "metadata": {
        "colab": {
          "base_uri": "https://localhost:8080/"
        },
        "id": "IiVBz4ZOm_OK",
        "outputId": "237f28ca-d695-42c3-8318-b384144d004e"
      },
      "source": [
        "!pip install pykalman mlflow\n",
        "\n"
      ],
      "execution_count": 12,
      "outputs": [
        {
          "output_type": "stream",
          "name": "stdout",
          "text": [
            "Requirement already satisfied: pykalman in /usr/local/lib/python3.7/dist-packages (0.9.5)\n",
            "Requirement already satisfied: mlflow in /usr/local/lib/python3.7/dist-packages (1.22.0)\n",
            "Requirement already satisfied: alembic<=1.4.1 in /usr/local/lib/python3.7/dist-packages (from mlflow) (1.4.1)\n",
            "Requirement already satisfied: cloudpickle in /usr/local/lib/python3.7/dist-packages (from mlflow) (1.3.0)\n",
            "Requirement already satisfied: importlib-metadata!=4.7.0,>=3.7.0 in /usr/local/lib/python3.7/dist-packages (from mlflow) (4.8.2)\n",
            "Requirement already satisfied: querystring-parser in /usr/local/lib/python3.7/dist-packages (from mlflow) (1.2.4)\n",
            "Requirement already satisfied: click>=7.0 in /usr/local/lib/python3.7/dist-packages (from mlflow) (7.1.2)\n",
            "Requirement already satisfied: docker>=4.0.0 in /usr/local/lib/python3.7/dist-packages (from mlflow) (5.0.3)\n",
            "Requirement already satisfied: gunicorn in /usr/local/lib/python3.7/dist-packages (from mlflow) (20.1.0)\n",
            "Requirement already satisfied: sqlalchemy in /usr/local/lib/python3.7/dist-packages (from mlflow) (1.4.27)\n",
            "Requirement already satisfied: Flask in /usr/local/lib/python3.7/dist-packages (from mlflow) (1.1.4)\n",
            "Requirement already satisfied: packaging in /usr/local/lib/python3.7/dist-packages (from mlflow) (21.3)\n",
            "Requirement already satisfied: pytz in /usr/local/lib/python3.7/dist-packages (from mlflow) (2018.9)\n",
            "Requirement already satisfied: pyyaml>=5.1 in /usr/local/lib/python3.7/dist-packages (from mlflow) (6.0)\n",
            "Requirement already satisfied: gitpython>=2.1.0 in /usr/local/lib/python3.7/dist-packages (from mlflow) (3.1.24)\n",
            "Requirement already satisfied: prometheus-flask-exporter in /usr/local/lib/python3.7/dist-packages (from mlflow) (0.18.6)\n",
            "Requirement already satisfied: sqlparse>=0.3.1 in /usr/local/lib/python3.7/dist-packages (from mlflow) (0.4.2)\n",
            "Requirement already satisfied: databricks-cli>=0.8.7 in /usr/local/lib/python3.7/dist-packages (from mlflow) (0.16.2)\n",
            "Requirement already satisfied: numpy in /usr/local/lib/python3.7/dist-packages (from mlflow) (1.19.5)\n",
            "Requirement already satisfied: entrypoints in /usr/local/lib/python3.7/dist-packages (from mlflow) (0.3)\n",
            "Requirement already satisfied: requests>=2.17.3 in /usr/local/lib/python3.7/dist-packages (from mlflow) (2.23.0)\n",
            "Requirement already satisfied: protobuf>=3.7.0 in /usr/local/lib/python3.7/dist-packages (from mlflow) (3.17.3)\n",
            "Requirement already satisfied: pandas in /usr/local/lib/python3.7/dist-packages (from mlflow) (1.1.5)\n",
            "Requirement already satisfied: Mako in /usr/local/lib/python3.7/dist-packages (from alembic<=1.4.1->mlflow) (1.1.6)\n",
            "Requirement already satisfied: python-editor>=0.3 in /usr/local/lib/python3.7/dist-packages (from alembic<=1.4.1->mlflow) (1.0.4)\n",
            "Requirement already satisfied: python-dateutil in /usr/local/lib/python3.7/dist-packages (from alembic<=1.4.1->mlflow) (2.8.2)\n",
            "Requirement already satisfied: tabulate>=0.7.7 in /usr/local/lib/python3.7/dist-packages (from databricks-cli>=0.8.7->mlflow) (0.8.9)\n",
            "Requirement already satisfied: six>=1.10.0 in /usr/local/lib/python3.7/dist-packages (from databricks-cli>=0.8.7->mlflow) (1.15.0)\n",
            "Requirement already satisfied: websocket-client>=0.32.0 in /usr/local/lib/python3.7/dist-packages (from docker>=4.0.0->mlflow) (1.2.1)\n",
            "Requirement already satisfied: gitdb<5,>=4.0.1 in /usr/local/lib/python3.7/dist-packages (from gitpython>=2.1.0->mlflow) (4.0.9)\n",
            "Requirement already satisfied: typing-extensions>=3.7.4.3 in /usr/local/lib/python3.7/dist-packages (from gitpython>=2.1.0->mlflow) (3.10.0.2)\n",
            "Requirement already satisfied: smmap<6,>=3.0.1 in /usr/local/lib/python3.7/dist-packages (from gitdb<5,>=4.0.1->gitpython>=2.1.0->mlflow) (5.0.0)\n",
            "Requirement already satisfied: zipp>=0.5 in /usr/local/lib/python3.7/dist-packages (from importlib-metadata!=4.7.0,>=3.7.0->mlflow) (3.6.0)\n",
            "Requirement already satisfied: certifi>=2017.4.17 in /usr/local/lib/python3.7/dist-packages (from requests>=2.17.3->mlflow) (2021.10.8)\n",
            "Requirement already satisfied: chardet<4,>=3.0.2 in /usr/local/lib/python3.7/dist-packages (from requests>=2.17.3->mlflow) (3.0.4)\n",
            "Requirement already satisfied: urllib3!=1.25.0,!=1.25.1,<1.26,>=1.21.1 in /usr/local/lib/python3.7/dist-packages (from requests>=2.17.3->mlflow) (1.24.3)\n",
            "Requirement already satisfied: idna<3,>=2.5 in /usr/local/lib/python3.7/dist-packages (from requests>=2.17.3->mlflow) (2.10)\n",
            "Requirement already satisfied: greenlet!=0.4.17 in /usr/local/lib/python3.7/dist-packages (from sqlalchemy->mlflow) (1.1.2)\n",
            "Requirement already satisfied: Jinja2<3.0,>=2.10.1 in /usr/local/lib/python3.7/dist-packages (from Flask->mlflow) (2.11.3)\n",
            "Requirement already satisfied: itsdangerous<2.0,>=0.24 in /usr/local/lib/python3.7/dist-packages (from Flask->mlflow) (1.1.0)\n",
            "Requirement already satisfied: Werkzeug<2.0,>=0.15 in /usr/local/lib/python3.7/dist-packages (from Flask->mlflow) (1.0.1)\n",
            "Requirement already satisfied: MarkupSafe>=0.23 in /usr/local/lib/python3.7/dist-packages (from Jinja2<3.0,>=2.10.1->Flask->mlflow) (2.0.1)\n",
            "Requirement already satisfied: setuptools>=3.0 in /usr/local/lib/python3.7/dist-packages (from gunicorn->mlflow) (57.4.0)\n",
            "Requirement already satisfied: pyparsing!=3.0.5,>=2.0.2 in /usr/local/lib/python3.7/dist-packages (from packaging->mlflow) (3.0.6)\n",
            "Requirement already satisfied: prometheus-client in /usr/local/lib/python3.7/dist-packages (from prometheus-flask-exporter->mlflow) (0.12.0)\n"
          ]
        }
      ]
    },
    {
      "cell_type": "code",
      "metadata": {
        "id": "e6GE6yz55gaV"
      },
      "source": [
        "import numpy as np\n",
        "import pandas as pd   \n",
        "import matplotlib.pyplot as plt\n",
        "import datetime\n",
        "from sklearn.metrics import mean_absolute_error\n",
        "\n",
        "from typing import Tuple, Dict\n",
        "\n",
        "import tensorflow as tf\n",
        "from tensorflow.keras.layers import *\n",
        "from tensorflow.keras.models import *\n",
        "from tensorflow.keras.callbacks import * \n",
        "from tensorflow.keras.optimizers import *\n",
        "from tensorflow.keras import backend as K\n",
        "\n",
        "import os\n",
        "\n",
        "from mlflow import log_metric, log_param, log_artifacts\n",
        "\n",
        "import warnings\n",
        "warnings.filterwarnings(\"ignore\")\n",
        "\n",
        "from pykalman import KalmanFilter"
      ],
      "execution_count": 13,
      "outputs": []
    },
    {
      "cell_type": "code",
      "metadata": {
        "id": "w7zvnwF8muY0"
      },
      "source": [
        "CRIPTO = 'ADAEUR'\n",
        "VELAS = '15m'\n",
        "log_param(\"moneda\", CRIPTO)\n",
        "log_param(\"velas\", VELAS)\n",
        "\n",
        "SEQUENCE_LENGHT = 100\n",
        "\n",
        "param = {\n",
        "    'unit': 50,\n",
        "    't2v_dim': 50,\n",
        "    'lr': 1e-2, \n",
        "    'act': 'relu', \n",
        "    'epochs': 10,\n",
        "    'batch_size': 100\n",
        "}\n"
      ],
      "execution_count": 14,
      "outputs": []
    },
    {
      "cell_type": "code",
      "metadata": {
        "id": "jbj59CNb3MMg"
      },
      "source": [
        ""
      ],
      "execution_count": 14,
      "outputs": []
    },
    {
      "cell_type": "code",
      "metadata": {
        "colab": {
          "base_uri": "https://localhost:8080/"
        },
        "id": "AdnVmWy93NLF",
        "outputId": "eb7eb8a9-a047-4bb7-aa9a-4245f246aec7"
      },
      "source": [
        "from google.colab import drive\n",
        "drive.mount('/content/drive')"
      ],
      "execution_count": 24,
      "outputs": [
        {
          "output_type": "stream",
          "name": "stdout",
          "text": [
            "Drive already mounted at /content/drive; to attempt to forcibly remount, call drive.mount(\"/content/drive\", force_remount=True).\n"
          ]
        }
      ]
    },
    {
      "cell_type": "code",
      "metadata": {
        "id": "5UyRVxkJmuY1"
      },
      "source": [
        "df = pd.read_csv('/content/drive/MyDrive/Maestria 2 año 1 semestre/Инструментальные платформы прогнозной аналитики (Куляница Андрей Леонидович)/2021.csv')"
      ],
      "execution_count": 26,
      "outputs": []
    },
    {
      "cell_type": "code",
      "metadata": {
        "id": "iJ9UVkKQmuY3"
      },
      "source": [
        "df.shape"
      ],
      "execution_count": null,
      "outputs": []
    },
    {
      "cell_type": "code",
      "metadata": {
        "colab": {
          "base_uri": "https://localhost:8080/",
          "height": 365
        },
        "id": "CrMIcObOmuY5",
        "outputId": "ae3ea772-9466-4029-9fe4-6c7f5e4d4a89"
      },
      "source": [
        "df.head()"
      ],
      "execution_count": 21,
      "outputs": [
        {
          "output_type": "execute_result",
          "data": {
            "text/html": [
              "<div>\n",
              "<style scoped>\n",
              "    .dataframe tbody tr th:only-of-type {\n",
              "        vertical-align: middle;\n",
              "    }\n",
              "\n",
              "    .dataframe tbody tr th {\n",
              "        vertical-align: top;\n",
              "    }\n",
              "\n",
              "    .dataframe thead th {\n",
              "        text-align: right;\n",
              "    }\n",
              "</style>\n",
              "<table border=\"1\" class=\"dataframe\">\n",
              "  <thead>\n",
              "    <tr style=\"text-align: right;\">\n",
              "      <th></th>\n",
              "      <th></th>\n",
              "      <th></th>\n",
              "      <th></th>\n",
              "      <th></th>\n",
              "      <th></th>\n",
              "      <th></th>\n",
              "      <th></th>\n",
              "      <th></th>\n",
              "      <th>https://www.CryptoDataDownload.com</th>\n",
              "    </tr>\n",
              "  </thead>\n",
              "  <tbody>\n",
              "    <tr>\n",
              "      <th>unix</th>\n",
              "      <th>date</th>\n",
              "      <th>symbol</th>\n",
              "      <th>open</th>\n",
              "      <th>high</th>\n",
              "      <th>low</th>\n",
              "      <th>close</th>\n",
              "      <th>Volume ADA</th>\n",
              "      <th>Volume USDT</th>\n",
              "      <td>tradecount</td>\n",
              "    </tr>\n",
              "    <tr>\n",
              "      <th>1624492800000</th>\n",
              "      <th>2021-06-24 00:00:00</th>\n",
              "      <th>ADA/USDT</th>\n",
              "      <th>1.25130000</th>\n",
              "      <th>1.26300000</th>\n",
              "      <th>1.24570000</th>\n",
              "      <th>1.24850000</th>\n",
              "      <th>2515620.40000000</th>\n",
              "      <th>3155280.17353200</th>\n",
              "      <td>7054</td>\n",
              "    </tr>\n",
              "    <tr>\n",
              "      <th>1624406400000</th>\n",
              "      <th>2021-06-23 00:00:00</th>\n",
              "      <th>ADA/USDT</th>\n",
              "      <th>1.15630000</th>\n",
              "      <th>1.31000000</th>\n",
              "      <th>1.10800000</th>\n",
              "      <th>1.25120000</th>\n",
              "      <th>490479573.30000000</th>\n",
              "      <th>607806302.67524400</th>\n",
              "      <td>776745</td>\n",
              "    </tr>\n",
              "    <tr>\n",
              "      <th>1624320000000</th>\n",
              "      <th>2021-06-22 00:00:00</th>\n",
              "      <th>ADA/USDT</th>\n",
              "      <th>1.17380000</th>\n",
              "      <th>1.26340000</th>\n",
              "      <th>1.00010000</th>\n",
              "      <th>1.15670000</th>\n",
              "      <th>907361654.28000000</th>\n",
              "      <th>1030804095.18176200</th>\n",
              "      <td>1461174</td>\n",
              "    </tr>\n",
              "    <tr>\n",
              "      <th>1624233600000</th>\n",
              "      <th>2021-06-21 00:00:00</th>\n",
              "      <th>ADA/USDT</th>\n",
              "      <th>1.42620000</th>\n",
              "      <th>1.43710000</th>\n",
              "      <th>1.16720000</th>\n",
              "      <th>1.17400000</th>\n",
              "      <th>512064782.95000000</th>\n",
              "      <th>661793161.74010400</th>\n",
              "      <td>982646</td>\n",
              "    </tr>\n",
              "  </tbody>\n",
              "</table>\n",
              "</div>"
            ],
            "text/plain": [
              "                                                                                                                              https://www.CryptoDataDownload.com\n",
              "unix          date                symbol   open       high       low        close      Volume ADA         Volume USDT                                 tradecount\n",
              "1624492800000 2021-06-24 00:00:00 ADA/USDT 1.25130000 1.26300000 1.24570000 1.24850000 2515620.40000000   3155280.17353200                                  7054\n",
              "1624406400000 2021-06-23 00:00:00 ADA/USDT 1.15630000 1.31000000 1.10800000 1.25120000 490479573.30000000 607806302.67524400                              776745\n",
              "1624320000000 2021-06-22 00:00:00 ADA/USDT 1.17380000 1.26340000 1.00010000 1.15670000 907361654.28000000 1030804095.18176200                            1461174\n",
              "1624233600000 2021-06-21 00:00:00 ADA/USDT 1.42620000 1.43710000 1.16720000 1.17400000 512064782.95000000 661793161.74010400                              982646"
            ]
          },
          "metadata": {},
          "execution_count": 21
        }
      ]
    },
    {
      "cell_type": "code",
      "metadata": {
        "colab": {
          "base_uri": "https://localhost:8080/",
          "height": 391
        },
        "id": "JU9vb7IV8TbL",
        "outputId": "b390cc52-db80-48c7-83a4-63c1e0dd26d3"
      },
      "source": [
        "df['close'].plot(figsize=(8,6))"
      ],
      "execution_count": 28,
      "outputs": [
        {
          "output_type": "execute_result",
          "data": {
            "text/plain": [
              "<matplotlib.axes._subplots.AxesSubplot at 0x7f1f9cfea1d0>"
            ]
          },
          "metadata": {},
          "execution_count": 28
        },
        {
          "output_type": "display_data",
          "data": {
            "image/png": "[encoded data removed]",
            "text/plain": [
              "<Figure size 576x432 with 1 Axes>"
            ]
          },
          "metadata": {
            "needs_background": "light"
          }
        }
      ]
    },
    {
      "cell_type": "code",
      "metadata": {
        "id": "99FJZGM080DB"
      },
      "source": [
        "\n",
        "def KalmanTransform(df: pd.DataFrame,variable: str = 'close') -> None:\n",
        "    kf = KalmanFilter(transition_matrices = [1],\n",
        "                  observation_matrices = [1],\n",
        "                  initial_state_mean =df['{}'.format(variable)].values.mean(),\n",
        "                  initial_state_covariance = 1,\n",
        "                  observation_covariance=1,\n",
        "                  transition_covariance=.05)\n",
        "    state_means, _ = kf.filter(df[variable].values)\n",
        "    df['kalman'] = pd.Series(state_means.flatten(), index=df.index)"
      ],
      "execution_count": null,
      "outputs": []
    },
    {
      "cell_type": "code",
      "metadata": {
        "id": "g4JyDndM88fI"
      },
      "source": [
        "df_tmp=df.copy()\n",
        "\n",
        "kf = KalmanFilter(transition_matrices = [1],\n",
        "              observation_matrices = [1],\n",
        "              initial_state_mean =df_tmp['close'].values.mean(),\n",
        "              initial_state_covariance = 1,\n",
        "              observation_covariance=1,\n",
        "              transition_covariance=.05)\n",
        "state_means, _ = kf.filter(df_tmp['close'].values)\n",
        "df_tmp['kalman'] = pd.Series(state_means.flatten(), index=df.index)"
      ],
      "execution_count": null,
      "outputs": []
    },
    {
      "cell_type": "code",
      "metadata": {
        "id": "5wE8rCCz9WKh"
      },
      "source": [
        "df_tmp[['close','kalman']][100:1000].plot(figsize=(12,8))"
      ],
      "execution_count": null,
      "outputs": []
    },
    {
      "cell_type": "markdown",
      "metadata": {
        "id": "dp6az5Ktvqkp"
      },
      "source": [
        "https://www.cienciadedatos.net/images/transform_timeseries.gif"
      ]
    },
    {
      "cell_type": "code",
      "metadata": {
        "id": "yYSjYeLHvoeg"
      },
      "source": [
        "\n",
        "def gen_sequence(id_df: pd.DataFrame, seq_length: int, seq_cols: str):\n",
        "    \n",
        "    data_matrix = id_df[seq_cols].values\n",
        "    num_elements = data_matrix.shape[0]\n",
        "\n",
        "    for start, stop in zip(range(0, num_elements-seq_length), range(seq_length, num_elements)):\n",
        "        yield data_matrix[start:stop, :]\n",
        "        \n",
        "\n",
        "\n",
        "def gen_labels(id_df: pd.DataFrame, seq_length: int, label: str):\n",
        "    \n",
        "    data_matrix = id_df[label].values\n",
        "    num_elements = data_matrix.shape[0]\n",
        "    \n",
        "    return data_matrix[seq_length:num_elements, :]\n"
      ],
      "execution_count": null,
      "outputs": []
    },
    {
      "cell_type": "markdown",
      "metadata": {
        "id": "kIRW1vkBoXwC"
      },
      "source": [
        "Paper: https://arxiv.org/pdf/1907.05321.pdf\n",
        "\n",
        "\n"
      ]
    },
    {
      "cell_type": "code",
      "metadata": {
        "id": "HgIagG488aP9"
      },
      "source": [
        "class T2V(Layer):\n",
        "    \n",
        "    def __init__(self, output_dim=None, **kwargs):\n",
        "        self.output_dim = output_dim\n",
        "        super(T2V, self).__init__(**kwargs)\n",
        "        \n",
        "    def build(self, input_shape):\n",
        "\n",
        "        self.W = self.add_weight(name='W',\n",
        "                                shape=(input_shape[-1], self.output_dim),\n",
        "                                initializer='uniform',\n",
        "                                trainable=True)\n",
        "\n",
        "        self.P = self.add_weight(name='P',\n",
        "                                shape=(input_shape[1], self.output_dim),\n",
        "                                initializer='uniform',\n",
        "                                trainable=True)\n",
        "\n",
        "        self.w = self.add_weight(name='w',\n",
        "                                shape=(input_shape[1], 1),\n",
        "                                initializer='uniform',\n",
        "                                trainable=True)\n",
        "\n",
        "        self.p = self.add_weight(name='p',\n",
        "                                shape=(input_shape[1], 1),\n",
        "                                initializer='uniform',\n",
        "                                trainable=True)\n",
        "\n",
        "        super(T2V, self).build(input_shape)\n",
        "        \n",
        "    def call(self, x):\n",
        "        \n",
        "        original = self.w * x + self.p\n",
        "        sin_trans = K.sin(K.dot(x, self.W) + self.P)\n",
        "        \n",
        "        return K.concatenate([sin_trans, original], -1)\n",
        "\n",
        "\n",
        "### CREATE GENERATOR FOR LSTM AND T2V ###\n",
        "\n",
        "\n",
        "def T2V_NN(param: Dict, dim: int = SEQUENCE_LENGHT):\n",
        "    for key in param:\n",
        "        log_param(key, param[key])\n",
        "    inp = Input(shape=(dim,1))\n",
        "    x = T2V(param['t2v_dim'])(inp)\n",
        "    x = LSTM(param['unit'], activation=param['act'])(x)\n",
        "    x = Dense(1)(x)\n",
        "    \n",
        "    m = Model(inp, x)\n",
        "    m.compile(loss='mse', optimizer=Adam(lr=param['lr']))\n",
        "    \n",
        "    return m\n",
        "\n",
        "\n"
      ],
      "execution_count": null,
      "outputs": []
    },
    {
      "cell_type": "code",
      "metadata": {
        "id": "6h7fMWB6muY8"
      },
      "source": [
        "\n",
        "### PREPARE DATA TO FEED MODELS ###\n",
        "def PrepareData(df: pd.DataFrame, KALMAN: bool = False, predict_variable: str = 'close', sequence_length: int = SEQUENCE_LENGHT)-> Tuple:\n",
        "    X, Y = [], []\n",
        "    log_param(\"kalman\", KALMAN)\n",
        "    log_param('sequence_length',sequence_length)\n",
        "    if KALMAN:\n",
        "        KalmanTransform(df, predict_variable)\n",
        "        for sequence in gen_sequence(df, sequence_length, ['kalman']):\n",
        "            X.append(sequence)\n",
        "    else:\n",
        "        for sequence in gen_sequence(df, sequence_length, [predict_variable]):\n",
        "            X.append(sequence)\n",
        "\n",
        "    for sequence in gen_labels(df, sequence_length, [predict_variable]):\n",
        "        Y.append(sequence)\n",
        "\n",
        "    X = np.asarray(X)\n",
        "    Y = np.asarray(Y)\n",
        "\n",
        "\n",
        "\n",
        "    ### TRAIN TEST SPLIT ###\n",
        "\n",
        "    train_dim = int(0.7*len(df))\n",
        "    X_train, X_test = X[:train_dim], X[train_dim:]\n",
        "    y_train, y_test = Y[:train_dim], Y[train_dim:]\n",
        "\n",
        "    print('Train shape X: '+str(X_train.shape)+' y: '+str(y_train.shape))\n",
        "    print('Test shape X: '+str(X_test.shape)+' y: '+str(y_test.shape))\n",
        "    return (X_train,X_test,y_train,y_test)\n"
      ],
      "execution_count": null,
      "outputs": []
    },
    {
      "cell_type": "code",
      "metadata": {
        "id": "25P9DZOe_MEs"
      },
      "source": [
        "\n",
        "\n",
        "### DEFINE PARAM GRID FOR HYPERPARM OPTIMIZATION ###\n",
        "\n",
        "\n",
        "\n",
        "m=T2V_NN(param)\n",
        "print(m.summary())"
      ],
      "execution_count": null,
      "outputs": []
    },
    {
      "cell_type": "code",
      "metadata": {
        "id": "9UFCJsDzmuY9"
      },
      "source": [
        "X_train,X_test,y_train,y_test=PrepareData(df,KALMAN=False)"
      ],
      "execution_count": null,
      "outputs": []
    },
    {
      "cell_type": "code",
      "metadata": {
        "id": "a0PSAWCUAIkM"
      },
      "source": [
        "m.fit(X_train,y_train, batch_size=param['batch_size'],epochs=param['epochs'])"
      ],
      "execution_count": null,
      "outputs": []
    },
    {
      "cell_type": "code",
      "metadata": {
        "id": "626bz4tSAa7D"
      },
      "source": [
        "pred = m.predict(X_test).ravel()\n"
      ],
      "execution_count": null,
      "outputs": []
    },
    {
      "cell_type": "code",
      "metadata": {
        "id": "YmFW_2SrBKNN"
      },
      "source": [
        "plt.figure(figsize=(12,6))\n",
        "\n",
        "plt.plot(pred, label='T2V')\n",
        "plt.plot(y_test.ravel(), label='true')\n",
        "plt.title('T2V predict'); plt.legend()"
      ],
      "execution_count": null,
      "outputs": []
    },
    {
      "cell_type": "code",
      "metadata": {
        "id": "TfBPpvyrB2z2"
      },
      "source": [
        "plt.figure(figsize=(12,6))\n",
        "\n",
        "plt.plot(pred[:100], label='T2V')\n",
        "plt.plot(y_test[:100].ravel(), label='true')\n",
        "plt.title('T2V predict'); plt.legend()"
      ],
      "execution_count": null,
      "outputs": []
    },
    {
      "cell_type": "code",
      "metadata": {
        "id": "80yb6R_WCHR4"
      },
      "source": [
        "print(mean_absolute_error(y_test.ravel(), pred))\n",
        "log_metric(\"MAE\",mean_absolute_error(y_test.ravel(), pred)) "
      ],
      "execution_count": null,
      "outputs": []
    },
    {
      "cell_type": "code",
      "metadata": {
        "id": "iB7zdtqkmuZB"
      },
      "source": [
        "!mlflow ui"
      ],
      "execution_count": null,
      "outputs": []
    },
    {
      "cell_type": "code",
      "metadata": {
        "id": "MU6r7YJNq-S8"
      },
      "source": [
        ""
      ],
      "execution_count": null,
      "outputs": []
    }
  ]
}