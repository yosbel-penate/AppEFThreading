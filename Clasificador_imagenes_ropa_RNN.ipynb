{
  "nbformat": 4,
  "nbformat_minor": 0,
  "metadata": {
    "colab": {
      "name": "Clasificador_imagenes_ropa_RNN.ipynb",
      "provenance": [],
      "authorship_tag": "ABX9TyPYpi7dK7lEkIWi1XpsPb2T",
      "include_colab_link": true
    },
    "kernelspec": {
      "name": "python3",
      "display_name": "Python 3"
    },
    "language_info": {
      "name": "python"
    }
  },
  "cells": [
    {
      "cell_type": "markdown",
      "metadata": {
        "id": "view-in-github",
        "colab_type": "text"
      },
      "source": [
        "<a href=\"https://colab.research.google.com/github/yosbel-penate/AppEFThreading/blob/master/Clasificador_imagenes_ropa_RNN.ipynb\" target=\"_parent\"><img src=\"https://colab.research.google.com/assets/colab-badge.svg\" alt=\"Open In Colab\"/></a>"
      ]
    },
    {
      "cell_type": "code",
      "metadata": {
        "id": "jhasgPEWgk13"
      },
      "source": [
        "import tensorflow as tf\n",
        "import tensorflow_datasets as tfds"
      ],
      "execution_count": 16,
      "outputs": []
    },
    {
      "cell_type": "code",
      "metadata": {
        "id": "WnPUyzrphLew"
      },
      "source": [
        "datos,metadatos=tfds.load('fashion_mnist', as_supervised=True, with_info=True)"
      ],
      "execution_count": 17,
      "outputs": []
    },
    {
      "cell_type": "code",
      "metadata": {
        "id": "N6dsJMbhhtbg"
      },
      "source": [
        "datos_entrenamiento, datos_prueba=datos['train'], datos['train']"
      ],
      "execution_count": 18,
      "outputs": []
    },
    {
      "cell_type": "code",
      "metadata": {
        "id": "Pj0p7zMyiRH3"
      },
      "source": [
        "nombres_clases=metadatos.features['label'].names"
      ],
      "execution_count": 19,
      "outputs": []
    },
    {
      "cell_type": "code",
      "metadata": {
        "id": "1GKmZNJUiwBS"
      },
      "source": [
        "def normalizar(imagenes, etiquetas):\n",
        "  imagenes=tf.cast(imagenes, tf.float32)\n",
        "  imagenes /=255\n",
        "  return imagenes, etiquetas"
      ],
      "execution_count": 20,
      "outputs": []
    },
    {
      "cell_type": "code",
      "metadata": {
        "id": "dSEpZ8s5jeNR"
      },
      "source": [
        "datos_entrenamiento=datos_entrenamiento.map(normalizar)\n",
        "datos_prueba=datos_prueba.map(normalizar)"
      ],
      "execution_count": 21,
      "outputs": []
    },
    {
      "cell_type": "code",
      "metadata": {
        "id": "b7WKcuqbj5FO"
      },
      "source": [
        "datos_entrenamiento=datos_entrenamiento.cache()\n",
        "datos_prueba=datos_prueba.cache()"
      ],
      "execution_count": 22,
      "outputs": []
    }
  ]
}