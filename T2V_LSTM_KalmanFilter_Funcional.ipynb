{
  "nbformat": 4,
  "nbformat_minor": 0,
  "metadata": {
    "colab": {
      "name": "T2V_LSTM_KalmanFilter-2.ipynb",
      "provenance": [],
      "collapsed_sections": [],
      "include_colab_link": true
    },
    "kernelspec": {
      "display_name": "Python 3",
      "language": "python",
      "name": "python3"
    },
    "language_info": {
      "codemirror_mode": {
        "name": "ipython",
        "version": 3
      },
      "file_extension": ".py",
      "mimetype": "text/x-python",
      "name": "python",
      "nbconvert_exporter": "python",
      "pygments_lexer": "ipython3",
      "version": "3.6.9"
    }
  },
  "cells": [
    {
      "cell_type": "markdown",
      "metadata": {
        "id": "view-in-github",
        "colab_type": "text"
      },
      "source": [
        "<a href=\"https://colab.research.google.com/github/yosbel-penate/AppEFThreading/blob/master/T2V_LSTM_KalmanFilter_Funcional.ipynb\" target=\"_parent\"><img src=\"https://colab.research.google.com/assets/colab-badge.svg\" alt=\"Open In Colab\"/></a>"
      ]
    },
    {
      "cell_type": "code",
      "metadata": {
        "colab": {
          "base_uri": "https://localhost:8080/"
        },
        "id": "IiVBz4ZOm_OK",
        "outputId": "0346ebb5-9b3d-4b1b-a435-cd2cc24207c3"
      },
      "source": [
        "!pip install pykalman mlflow"
      ],
      "execution_count": 1,
      "outputs": [
        {
          "output_type": "stream",
          "name": "stdout",
          "text": [
            "Collecting pykalman\n",
            "  Downloading pykalman-0.9.5.tar.gz (228 kB)\n",
            "\u001b[K     |████████████████████████████████| 228 kB 7.2 MB/s \n",
            "\u001b[?25hCollecting mlflow\n",
            "  Downloading mlflow-1.22.0-py3-none-any.whl (15.5 MB)\n",
            "\u001b[K     |████████████████████████████████| 15.5 MB 43.5 MB/s \n",
            "\u001b[?25hRequirement already satisfied: sqlparse>=0.3.1 in /usr/local/lib/python3.7/dist-packages (from mlflow) (0.4.2)\n",
            "Requirement already satisfied: requests>=2.17.3 in /usr/local/lib/python3.7/dist-packages (from mlflow) (2.23.0)\n",
            "Requirement already satisfied: pandas in /usr/local/lib/python3.7/dist-packages (from mlflow) (1.1.5)\n",
            "Requirement already satisfied: click>=7.0 in /usr/local/lib/python3.7/dist-packages (from mlflow) (7.1.2)\n",
            "Requirement already satisfied: cloudpickle in /usr/local/lib/python3.7/dist-packages (from mlflow) (1.3.0)\n",
            "Collecting databricks-cli>=0.8.7\n",
            "  Downloading databricks-cli-0.16.2.tar.gz (58 kB)\n",
            "\u001b[K     |████████████████████████████████| 58 kB 7.3 MB/s \n",
            "\u001b[?25hRequirement already satisfied: entrypoints in /usr/local/lib/python3.7/dist-packages (from mlflow) (0.3)\n",
            "Collecting gitpython>=2.1.0\n",
            "  Downloading GitPython-3.1.24-py3-none-any.whl (180 kB)\n",
            "\u001b[K     |████████████████████████████████| 180 kB 68.6 MB/s \n",
            "\u001b[?25hCollecting querystring-parser\n",
            "  Downloading querystring_parser-1.2.4-py2.py3-none-any.whl (7.9 kB)\n",
            "Collecting gunicorn\n",
            "  Downloading gunicorn-20.1.0-py3-none-any.whl (79 kB)\n",
            "\u001b[K     |████████████████████████████████| 79 kB 10.0 MB/s \n",
            "\u001b[?25hRequirement already satisfied: packaging in /usr/local/lib/python3.7/dist-packages (from mlflow) (21.3)\n",
            "Requirement already satisfied: protobuf>=3.7.0 in /usr/local/lib/python3.7/dist-packages (from mlflow) (3.17.3)\n",
            "Requirement already satisfied: importlib-metadata!=4.7.0,>=3.7.0 in /usr/local/lib/python3.7/dist-packages (from mlflow) (4.8.2)\n",
            "Requirement already satisfied: numpy in /usr/local/lib/python3.7/dist-packages (from mlflow) (1.19.5)\n",
            "Requirement already satisfied: sqlalchemy in /usr/local/lib/python3.7/dist-packages (from mlflow) (1.4.27)\n",
            "Collecting pyyaml>=5.1\n",
            "  Downloading PyYAML-6.0-cp37-cp37m-manylinux_2_5_x86_64.manylinux1_x86_64.manylinux_2_12_x86_64.manylinux2010_x86_64.whl (596 kB)\n",
            "\u001b[K     |████████████████████████████████| 596 kB 58.1 MB/s \n",
            "\u001b[?25hCollecting alembic<=1.4.1\n",
            "  Downloading alembic-1.4.1.tar.gz (1.1 MB)\n",
            "\u001b[K     |████████████████████████████████| 1.1 MB 49.6 MB/s \n",
            "\u001b[?25hRequirement already satisfied: Flask in /usr/local/lib/python3.7/dist-packages (from mlflow) (1.1.4)\n",
            "Collecting docker>=4.0.0\n",
            "  Downloading docker-5.0.3-py2.py3-none-any.whl (146 kB)\n",
            "\u001b[K     |████████████████████████████████| 146 kB 64.8 MB/s \n",
            "\u001b[?25hCollecting prometheus-flask-exporter\n",
            "  Downloading prometheus_flask_exporter-0.18.6-py3-none-any.whl (17 kB)\n",
            "Requirement already satisfied: pytz in /usr/local/lib/python3.7/dist-packages (from mlflow) (2018.9)\n",
            "Collecting Mako\n",
            "  Downloading Mako-1.1.6-py2.py3-none-any.whl (75 kB)\n",
            "\u001b[K     |████████████████████████████████| 75 kB 6.3 MB/s \n",
            "\u001b[?25hCollecting python-editor>=0.3\n",
            "  Downloading python_editor-1.0.4-py3-none-any.whl (4.9 kB)\n",
            "Requirement already satisfied: python-dateutil in /usr/local/lib/python3.7/dist-packages (from alembic<=1.4.1->mlflow) (2.8.2)\n",
            "Requirement already satisfied: tabulate>=0.7.7 in /usr/local/lib/python3.7/dist-packages (from databricks-cli>=0.8.7->mlflow) (0.8.9)\n",
            "Requirement already satisfied: six>=1.10.0 in /usr/local/lib/python3.7/dist-packages (from databricks-cli>=0.8.7->mlflow) (1.15.0)\n",
            "Collecting websocket-client>=0.32.0\n",
            "  Downloading websocket_client-1.2.1-py2.py3-none-any.whl (52 kB)\n",
            "\u001b[K     |████████████████████████████████| 52 kB 2.1 MB/s \n",
            "\u001b[?25hRequirement already satisfied: typing-extensions>=3.7.4.3 in /usr/local/lib/python3.7/dist-packages (from gitpython>=2.1.0->mlflow) (3.10.0.2)\n",
            "Collecting gitdb<5,>=4.0.1\n",
            "  Downloading gitdb-4.0.9-py3-none-any.whl (63 kB)\n",
            "\u001b[K     |████████████████████████████████| 63 kB 2.7 MB/s \n",
            "\u001b[?25hCollecting smmap<6,>=3.0.1\n",
            "  Downloading smmap-5.0.0-py3-none-any.whl (24 kB)\n",
            "Requirement already satisfied: zipp>=0.5 in /usr/local/lib/python3.7/dist-packages (from importlib-metadata!=4.7.0,>=3.7.0->mlflow) (3.6.0)\n",
            "Requirement already satisfied: certifi>=2017.4.17 in /usr/local/lib/python3.7/dist-packages (from requests>=2.17.3->mlflow) (2021.10.8)\n",
            "Requirement already satisfied: idna<3,>=2.5 in /usr/local/lib/python3.7/dist-packages (from requests>=2.17.3->mlflow) (2.10)\n",
            "Requirement already satisfied: chardet<4,>=3.0.2 in /usr/local/lib/python3.7/dist-packages (from requests>=2.17.3->mlflow) (3.0.4)\n",
            "Requirement already satisfied: urllib3!=1.25.0,!=1.25.1,<1.26,>=1.21.1 in /usr/local/lib/python3.7/dist-packages (from requests>=2.17.3->mlflow) (1.24.3)\n",
            "Requirement already satisfied: greenlet!=0.4.17 in /usr/local/lib/python3.7/dist-packages (from sqlalchemy->mlflow) (1.1.2)\n",
            "Requirement already satisfied: Werkzeug<2.0,>=0.15 in /usr/local/lib/python3.7/dist-packages (from Flask->mlflow) (1.0.1)\n",
            "Requirement already satisfied: Jinja2<3.0,>=2.10.1 in /usr/local/lib/python3.7/dist-packages (from Flask->mlflow) (2.11.3)\n",
            "Requirement already satisfied: itsdangerous<2.0,>=0.24 in /usr/local/lib/python3.7/dist-packages (from Flask->mlflow) (1.1.0)\n",
            "Requirement already satisfied: MarkupSafe>=0.23 in /usr/local/lib/python3.7/dist-packages (from Jinja2<3.0,>=2.10.1->Flask->mlflow) (2.0.1)\n",
            "Requirement already satisfied: setuptools>=3.0 in /usr/local/lib/python3.7/dist-packages (from gunicorn->mlflow) (57.4.0)\n",
            "Requirement already satisfied: pyparsing!=3.0.5,>=2.0.2 in /usr/local/lib/python3.7/dist-packages (from packaging->mlflow) (3.0.6)\n",
            "Requirement already satisfied: prometheus-client in /usr/local/lib/python3.7/dist-packages (from prometheus-flask-exporter->mlflow) (0.12.0)\n",
            "Building wheels for collected packages: pykalman, alembic, databricks-cli\n",
            "  Building wheel for pykalman (setup.py) ... \u001b[?25l\u001b[?25hdone\n",
            "  Created wheel for pykalman: filename=pykalman-0.9.5-py3-none-any.whl size=48461 sha256=47818bf25aaff912a87e748ae231e379f4a3d70331be1f8318f26b2fc1d053c0\n",
            "  Stored in directory: /root/.cache/pip/wheels/6a/04/02/2dda6ea59c66d9e685affc8af3a31ad3a5d87b7311689efce6\n",
            "  Building wheel for alembic (setup.py) ... \u001b[?25l\u001b[?25hdone\n",
            "  Created wheel for alembic: filename=alembic-1.4.1-py2.py3-none-any.whl size=158172 sha256=aba2fa324cce8e4642a77cba40e3ce4181c24492ea31c0d97b3e336eb0286c81\n",
            "  Stored in directory: /root/.cache/pip/wheels/be/5d/0a/9e13f53f4f5dfb67cd8d245bb7cdffe12f135846f491a283e3\n",
            "  Building wheel for databricks-cli (setup.py) ... \u001b[?25l\u001b[?25hdone\n",
            "  Created wheel for databricks-cli: filename=databricks_cli-0.16.2-py3-none-any.whl size=106811 sha256=37ed0199aa3917355d1e7f37e984d310d7e636a9cc7b591aaf36d8a3a80cc0ae\n",
            "  Stored in directory: /root/.cache/pip/wheels/f4/5c/ed/e1ce20a53095f63b27b4964abbad03e59cf3472822addf7d29\n",
            "Successfully built pykalman alembic databricks-cli\n",
            "Installing collected packages: smmap, websocket-client, python-editor, Mako, gitdb, querystring-parser, pyyaml, prometheus-flask-exporter, gunicorn, gitpython, docker, databricks-cli, alembic, pykalman, mlflow\n",
            "  Attempting uninstall: pyyaml\n",
            "    Found existing installation: PyYAML 3.13\n",
            "    Uninstalling PyYAML-3.13:\n",
            "      Successfully uninstalled PyYAML-3.13\n",
            "Successfully installed Mako-1.1.6 alembic-1.4.1 databricks-cli-0.16.2 docker-5.0.3 gitdb-4.0.9 gitpython-3.1.24 gunicorn-20.1.0 mlflow-1.22.0 prometheus-flask-exporter-0.18.6 pykalman-0.9.5 python-editor-1.0.4 pyyaml-6.0 querystring-parser-1.2.4 smmap-5.0.0 websocket-client-1.2.1\n"
          ]
        }
      ]
    },
    {
      "cell_type": "code",
      "metadata": {
        "id": "e6GE6yz55gaV"
      },
      "source": [
        "import numpy as np\n",
        "import pandas as pd   \n",
        "import matplotlib.pyplot as plt\n",
        "import datetime\n",
        "from sklearn.metrics import mean_absolute_error\n",
        "\n",
        "from typing import Tuple, Dict\n",
        "\n",
        "import tensorflow as tf\n",
        "from tensorflow.keras.layers import *\n",
        "from tensorflow.keras.models import *\n",
        "from tensorflow.keras.callbacks import * \n",
        "from tensorflow.keras.optimizers import *\n",
        "from tensorflow.keras import backend as K\n",
        "\n",
        "import os\n",
        "\n",
        "from mlflow import log_metric, log_param, log_artifacts\n",
        "\n",
        "import warnings\n",
        "warnings.filterwarnings(\"ignore\")\n",
        "\n",
        "from pykalman import KalmanFilter"
      ],
      "execution_count": 2,
      "outputs": []
    },
    {
      "cell_type": "code",
      "metadata": {
        "id": "w7zvnwF8muY0"
      },
      "source": [
        "CRIPTO = 'ADAEUR'\n",
        "VELAS = '15m'\n",
        "log_param(\"moneda\", CRIPTO)\n",
        "log_param(\"velas\", VELAS)\n",
        "\n",
        "SEQUENCE_LENGHT = 100\n",
        "\n",
        "param = {\n",
        "    'unit': 50,\n",
        "    't2v_dim': 50,\n",
        "    'lr': 1e-2, \n",
        "    'act': 'relu', \n",
        "    'epochs': 300,\n",
        "    'batch_size': 100\n",
        "}\n"
      ],
      "execution_count": 3,
      "outputs": []
    },
    {
      "cell_type": "code",
      "metadata": {
        "id": "6gttor9LBLLg",
        "outputId": "fdc33129-3543-48b0-dc47-2ded22f71d92",
        "colab": {
          "base_uri": "https://localhost:8080/"
        }
      },
      "source": [
        "from google.colab import drive\n",
        "drive.mount('/content/drive')"
      ],
      "execution_count": 4,
      "outputs": [
        {
          "output_type": "stream",
          "name": "stdout",
          "text": [
            "Mounted at /content/drive\n"
          ]
        }
      ]
    },
    {
      "cell_type": "code",
      "metadata": {
        "id": "5UyRVxkJmuY1"
      },
      "source": [
        "dir='/content/drive/MyDrive/Maestria 2 año 1 semestre/Инструментальные платформы прогнозной аналитики (Куляница Андрей Леонидович)/'\n",
        "dataSetFile='2021.csv'\n",
        "df = pd.read_csv(dir+dataSetFile)"
      ],
      "execution_count": 5,
      "outputs": []
    },
    {
      "cell_type": "code",
      "metadata": {
        "colab": {
          "base_uri": "https://localhost:8080/"
        },
        "id": "iJ9UVkKQmuY3",
        "outputId": "34f58288-29bd-4844-d1dd-36686d99aeb2"
      },
      "source": [
        "df.shape"
      ],
      "execution_count": 6,
      "outputs": [
        {
          "output_type": "execute_result",
          "data": {
            "text/plain": [
              "(500, 8)"
            ]
          },
          "metadata": {},
          "execution_count": 6
        }
      ]
    },
    {
      "cell_type": "code",
      "metadata": {
        "colab": {
          "base_uri": "https://localhost:8080/",
          "height": 206
        },
        "id": "CrMIcObOmuY5",
        "outputId": "40143b82-e511-4615-a8a7-db39b7f5a20c"
      },
      "source": [
        "df.head()"
      ],
      "execution_count": 7,
      "outputs": [
        {
          "output_type": "execute_result",
          "data": {
            "text/html": [
              "<div>\n",
              "<style scoped>\n",
              "    .dataframe tbody tr th:only-of-type {\n",
              "        vertical-align: middle;\n",
              "    }\n",
              "\n",
              "    .dataframe tbody tr th {\n",
              "        vertical-align: top;\n",
              "    }\n",
              "\n",
              "    .dataframe thead th {\n",
              "        text-align: right;\n",
              "    }\n",
              "</style>\n",
              "<table border=\"1\" class=\"dataframe\">\n",
              "  <thead>\n",
              "    <tr style=\"text-align: right;\">\n",
              "      <th></th>\n",
              "      <th>Unnamed: 0</th>\n",
              "      <th>time</th>\n",
              "      <th>open</th>\n",
              "      <th>high</th>\n",
              "      <th>low</th>\n",
              "      <th>close</th>\n",
              "      <th>volume</th>\n",
              "      <th>date</th>\n",
              "    </tr>\n",
              "  </thead>\n",
              "  <tbody>\n",
              "    <tr>\n",
              "      <th>0</th>\n",
              "      <td>0</td>\n",
              "      <td>1.637779e+12</td>\n",
              "      <td>1.629</td>\n",
              "      <td>1.631</td>\n",
              "      <td>1.615</td>\n",
              "      <td>1.615</td>\n",
              "      <td>1926807.4</td>\n",
              "      <td>1975-03-11 13:51:00</td>\n",
              "    </tr>\n",
              "    <tr>\n",
              "      <th>1</th>\n",
              "      <td>1</td>\n",
              "      <td>1.637780e+12</td>\n",
              "      <td>1.616</td>\n",
              "      <td>1.618</td>\n",
              "      <td>1.611</td>\n",
              "      <td>1.615</td>\n",
              "      <td>2393867.9</td>\n",
              "      <td>1975-03-11 13:52:30</td>\n",
              "    </tr>\n",
              "    <tr>\n",
              "      <th>2</th>\n",
              "      <td>2</td>\n",
              "      <td>1.637780e+12</td>\n",
              "      <td>1.614</td>\n",
              "      <td>1.618</td>\n",
              "      <td>1.601</td>\n",
              "      <td>1.605</td>\n",
              "      <td>3254583.7</td>\n",
              "      <td>1975-03-11 13:54:00</td>\n",
              "    </tr>\n",
              "    <tr>\n",
              "      <th>3</th>\n",
              "      <td>3</td>\n",
              "      <td>1.637781e+12</td>\n",
              "      <td>1.605</td>\n",
              "      <td>1.614</td>\n",
              "      <td>1.604</td>\n",
              "      <td>1.607</td>\n",
              "      <td>2101630.6</td>\n",
              "      <td>1975-03-11 13:55:30</td>\n",
              "    </tr>\n",
              "    <tr>\n",
              "      <th>4</th>\n",
              "      <td>4</td>\n",
              "      <td>1.637782e+12</td>\n",
              "      <td>1.607</td>\n",
              "      <td>1.620</td>\n",
              "      <td>1.606</td>\n",
              "      <td>1.618</td>\n",
              "      <td>1992281.9</td>\n",
              "      <td>1975-03-11 13:57:00</td>\n",
              "    </tr>\n",
              "  </tbody>\n",
              "</table>\n",
              "</div>"
            ],
            "text/plain": [
              "   Unnamed: 0          time   open  ...  close     volume                 date\n",
              "0           0  1.637779e+12  1.629  ...  1.615  1926807.4  1975-03-11 13:51:00\n",
              "1           1  1.637780e+12  1.616  ...  1.615  2393867.9  1975-03-11 13:52:30\n",
              "2           2  1.637780e+12  1.614  ...  1.605  3254583.7  1975-03-11 13:54:00\n",
              "3           3  1.637781e+12  1.605  ...  1.607  2101630.6  1975-03-11 13:55:30\n",
              "4           4  1.637782e+12  1.607  ...  1.618  1992281.9  1975-03-11 13:57:00\n",
              "\n",
              "[5 rows x 8 columns]"
            ]
          },
          "metadata": {},
          "execution_count": 7
        }
      ]
    },
    {
      "cell_type": "code",
      "metadata": {
        "colab": {
          "base_uri": "https://localhost:8080/",
          "height": 391
        },
        "id": "JU9vb7IV8TbL",
        "outputId": "d5f92075-45bb-4fea-f449-a17e34b6c6d5"
      },
      "source": [
        "df['close'].plot( figsize=(8,6))"
      ],
      "execution_count": 8,
      "outputs": [
        {
          "output_type": "execute_result",
          "data": {
            "text/plain": [
              "<matplotlib.axes._subplots.AxesSubplot at 0x7f4307f7d950>"
            ]
          },
          "metadata": {},
          "execution_count": 8
        },
        {
          "output_type": "display_data",
          "data": {
            "image/png": "[encoded data removed]",
            "text/plain": [
              "<Figure size 576x432 with 1 Axes>"
            ]
          },
          "metadata": {
            "needs_background": "light"
          }
        }
      ]
    },
    {
      "cell_type": "code",
      "metadata": {
        "id": "99FJZGM080DB"
      },
      "source": [
        "def KalmanTransform(df: pd.DataFrame,variable: str = 'close') -> None:\n",
        "    kf = KalmanFilter(transition_matrices = [1],\n",
        "                  observation_matrices = [1],\n",
        "                  initial_state_mean =df['{}'.format(variable)].values.mean(),\n",
        "                  initial_state_covariance = 1,\n",
        "                  observation_covariance=1,\n",
        "                  transition_covariance=.05)\n",
        "    state_means, _ = kf.filter(df[variable].values)\n",
        "    df['kalman'] = pd.Series(state_means.flatten(), index=df.index)"
      ],
      "execution_count": 9,
      "outputs": []
    },
    {
      "cell_type": "markdown",
      "metadata": {
        "id": "dp6az5Ktvqkp"
      },
      "source": [
        "https://www.cienciadedatos.net/images/transform_timeseries.gif"
      ]
    },
    {
      "cell_type": "code",
      "metadata": {
        "id": "yYSjYeLHvoeg"
      },
      "source": [
        "\n",
        "def gen_sequence(id_df: pd.DataFrame, seq_length: int, seq_cols: str):\n",
        "    \n",
        "    data_matrix = id_df[seq_cols].values\n",
        "    num_elements = data_matrix.shape[0]\n",
        "\n",
        "    for start, stop in zip(range(0, num_elements-seq_length), range(seq_length, num_elements)):\n",
        "        yield data_matrix[start:stop, :]\n",
        "        \n",
        "\n",
        "\n",
        "def gen_labels(id_df: pd.DataFrame, seq_length: int, label: str):\n",
        "    \n",
        "    data_matrix = id_df[label].values\n",
        "    num_elements = data_matrix.shape[0]\n",
        "    \n",
        "    return data_matrix[seq_length:num_elements, :]\n"
      ],
      "execution_count": 10,
      "outputs": []
    },
    {
      "cell_type": "markdown",
      "metadata": {
        "id": "kIRW1vkBoXwC"
      },
      "source": [
        "Paper: https://arxiv.org/pdf/1907.05321.pdf\n",
        "\n",
        "\n"
      ]
    },
    {
      "cell_type": "code",
      "metadata": {
        "id": "HgIagG488aP9"
      },
      "source": [
        "class T2V(Layer):\n",
        "    \n",
        "    def __init__(self, output_dim=None, **kwargs):\n",
        "        self.output_dim = output_dim\n",
        "        super(T2V, self).__init__(**kwargs)\n",
        "        \n",
        "    def build(self, input_shape):\n",
        "\n",
        "        self.W = self.add_weight(name='W',\n",
        "                                shape=(input_shape[-1], self.output_dim),\n",
        "                                initializer='uniform',\n",
        "                                trainable=True)\n",
        "\n",
        "        self.P = self.add_weight(name='P',\n",
        "                                shape=(input_shape[1], self.output_dim),\n",
        "                                initializer='uniform',\n",
        "                                trainable=True)\n",
        "\n",
        "        self.w = self.add_weight(name='w',\n",
        "                                shape=(input_shape[1], 1),\n",
        "                                initializer='uniform',\n",
        "                                trainable=True)\n",
        "\n",
        "        self.p = self.add_weight(name='p',\n",
        "                                shape=(input_shape[1], 1),\n",
        "                                initializer='uniform',\n",
        "                                trainable=True)\n",
        "\n",
        "        super(T2V, self).build(input_shape)\n",
        "        \n",
        "    def call(self, x):\n",
        "        \n",
        "        original = self.w * x + self.p\n",
        "        sin_trans = K.sin(K.dot(x, self.W) + self.P)\n",
        "        \n",
        "        return K.concatenate([sin_trans, original], -1)\n",
        "\n",
        "\n",
        "### CREATE GENERATOR FOR LSTM AND T2V ###\n",
        "\n",
        "\n",
        "def T2V_NN(param: Dict, dim: int = SEQUENCE_LENGHT):\n",
        "    for key in param:\n",
        "        log_param(key, param[key])\n",
        "    inp = Input(shape=(dim,1))\n",
        "    x = T2V(param['t2v_dim'])(inp)\n",
        "    x = LSTM(param['unit'], activation=param['act'])(x)\n",
        "    x = Dense(1)(x)\n",
        "    \n",
        "    m = Model(inp, x)\n",
        "    m.compile(loss='mse', optimizer=Adam(lr=param['lr']))\n",
        "    \n",
        "    return m\n",
        "\n",
        "\n"
      ],
      "execution_count": 11,
      "outputs": []
    },
    {
      "cell_type": "code",
      "metadata": {
        "id": "6h7fMWB6muY8"
      },
      "source": [
        "\n",
        "### PREPARE DATA TO FEED MODELS ###\n",
        "def PrepareData(df: pd.DataFrame, KALMAN: bool = False, predict_variable: str = 'close', sequence_length: int = SEQUENCE_LENGHT)-> Tuple:\n",
        "    X, Y = [], []\n",
        "    log_param(\"kalman\", KALMAN)\n",
        "    log_param('sequence_length',sequence_length)\n",
        "    if KALMAN:\n",
        "        KalmanTransform(df, predict_variable)\n",
        "        for sequence in gen_sequence(df, sequence_length, ['kalman']):\n",
        "            X.append(sequence)\n",
        "    else:\n",
        "        for sequence in gen_sequence(df, sequence_length, [predict_variable]):\n",
        "            X.append(sequence)\n",
        "\n",
        "    for sequence in gen_labels(df, sequence_length, [predict_variable]):\n",
        "        Y.append(sequence)\n",
        "\n",
        "    X = np.asarray(X)\n",
        "    Y = np.asarray(Y)\n",
        "\n",
        "\n",
        "\n",
        "    ### TRAIN TEST SPLIT ###\n",
        "\n",
        "    train_dim = int(0.7*len(df))\n",
        "    X_train, X_test = X[:train_dim], X[train_dim:]\n",
        "    y_train, y_test = Y[:train_dim], Y[train_dim:]\n",
        "\n",
        "    print('Train shape X: '+str(X_train.shape)+' y: '+str(y_train.shape))\n",
        "    print('Test shape X: '+str(X_test.shape)+' y: '+str(y_test.shape))\n",
        "    return (X_train,X_test,y_train,y_test)\n"
      ],
      "execution_count": 12,
      "outputs": []
    },
    {
      "cell_type": "code",
      "metadata": {
        "colab": {
          "base_uri": "https://localhost:8080/"
        },
        "id": "25P9DZOe_MEs",
        "outputId": "18ea4260-127e-42cf-de19-5aabd41db9d5"
      },
      "source": [
        "\n",
        "\n",
        "### DEFINE PARAM GRID FOR HYPERPARM OPTIMIZATION ###\n",
        "\n",
        "\n",
        "\n",
        "m=T2V_NN(param)\n",
        "print(m.summary())"
      ],
      "execution_count": 13,
      "outputs": [
        {
          "output_type": "stream",
          "name": "stdout",
          "text": [
            "Model: \"model\"\n",
            "_________________________________________________________________\n",
            " Layer (type)                Output Shape              Param #   \n",
            "=================================================================\n",
            " input_1 (InputLayer)        [(None, 100, 1)]          0         \n",
            "                                                                 \n",
            " t2v (T2V)                   (None, 100, 51)           5250      \n",
            "                                                                 \n",
            " lstm (LSTM)                 (None, 50)                20400     \n",
            "                                                                 \n",
            " dense (Dense)               (None, 1)                 51        \n",
            "                                                                 \n",
            "=================================================================\n",
            "Total params: 25,701\n",
            "Trainable params: 25,701\n",
            "Non-trainable params: 0\n",
            "_________________________________________________________________\n",
            "None\n"
          ]
        }
      ]
    },
    {
      "cell_type": "code",
      "metadata": {
        "colab": {
          "base_uri": "https://localhost:8080/"
        },
        "id": "9UFCJsDzmuY9",
        "outputId": "a3d30018-97e9-4577-cf53-2adcc5409c2f"
      },
      "source": [
        "X_train,X_test,y_train,y_test=PrepareData(df,KALMAN=False)"
      ],
      "execution_count": 14,
      "outputs": [
        {
          "output_type": "stream",
          "name": "stdout",
          "text": [
            "Train shape X: (350, 100, 1) y: (350, 1)\n",
            "Test shape X: (50, 100, 1) y: (50, 1)\n"
          ]
        }
      ]
    },
    {
      "cell_type": "code",
      "metadata": {
        "colab": {
          "base_uri": "https://localhost:8080/"
        },
        "id": "a0PSAWCUAIkM",
        "outputId": "ad467fae-5b26-4345-b187-30172eb56e02"
      },
      "source": [
        "historial=m.fit(X_train,y_train, batch_size=param['batch_size'],epochs=param['epochs'])"
      ],
      "execution_count": 15,
      "outputs": [
        {
          "output_type": "stream",
          "name": "stdout",
          "text": [
            "Epoch 1/300\n",
            "4/4 [==============================] - 2s 66ms/step - loss: 1.5341\n",
            "Epoch 2/300\n",
            "4/4 [==============================] - 0s 73ms/step - loss: 1.7066\n",
            "Epoch 3/300\n",
            "4/4 [==============================] - 0s 69ms/step - loss: 1.4979\n",
            "Epoch 4/300\n",
            "4/4 [==============================] - 0s 71ms/step - loss: 0.4656\n",
            "Epoch 5/300\n",
            "4/4 [==============================] - 0s 63ms/step - loss: 0.1909\n",
            "Epoch 6/300\n",
            "4/4 [==============================] - 0s 65ms/step - loss: 0.0652\n",
            "Epoch 7/300\n",
            "4/4 [==============================] - 0s 73ms/step - loss: 0.0397\n",
            "Epoch 8/300\n",
            "4/4 [==============================] - 0s 68ms/step - loss: 0.0135\n",
            "Epoch 9/300\n",
            "4/4 [==============================] - 0s 66ms/step - loss: 0.0196\n",
            "Epoch 10/300\n",
            "4/4 [==============================] - 0s 65ms/step - loss: 0.0037\n",
            "Epoch 11/300\n",
            "4/4 [==============================] - 0s 78ms/step - loss: 0.0099\n",
            "Epoch 12/300\n",
            "4/4 [==============================] - 0s 73ms/step - loss: 0.0025\n",
            "Epoch 13/300\n",
            "4/4 [==============================] - 0s 73ms/step - loss: 0.0044\n",
            "Epoch 14/300\n",
            "4/4 [==============================] - 0s 70ms/step - loss: 0.0024\n",
            "Epoch 15/300\n",
            "4/4 [==============================] - 0s 64ms/step - loss: 0.0024\n",
            "Epoch 16/300\n",
            "4/4 [==============================] - 0s 68ms/step - loss: 0.0021\n",
            "Epoch 17/300\n",
            "4/4 [==============================] - 0s 66ms/step - loss: 0.0016\n",
            "Epoch 18/300\n",
            "4/4 [==============================] - 0s 72ms/step - loss: 0.0018\n",
            "Epoch 19/300\n",
            "4/4 [==============================] - 0s 69ms/step - loss: 0.0015\n",
            "Epoch 20/300\n",
            "4/4 [==============================] - 0s 63ms/step - loss: 0.0016\n",
            "Epoch 21/300\n",
            "4/4 [==============================] - 0s 63ms/step - loss: 0.0015\n",
            "Epoch 22/300\n",
            "4/4 [==============================] - 0s 65ms/step - loss: 0.0015\n",
            "Epoch 23/300\n",
            "4/4 [==============================] - 0s 71ms/step - loss: 0.0014\n",
            "Epoch 24/300\n",
            "4/4 [==============================] - 0s 68ms/step - loss: 0.0014\n",
            "Epoch 25/300\n",
            "4/4 [==============================] - 0s 72ms/step - loss: 0.0014\n",
            "Epoch 26/300\n",
            "4/4 [==============================] - 0s 70ms/step - loss: 0.0014\n",
            "Epoch 27/300\n",
            "4/4 [==============================] - 0s 69ms/step - loss: 0.0014\n",
            "Epoch 28/300\n",
            "4/4 [==============================] - 0s 69ms/step - loss: 0.0014\n",
            "Epoch 29/300\n",
            "4/4 [==============================] - 0s 66ms/step - loss: 0.0014\n",
            "Epoch 30/300\n",
            "4/4 [==============================] - 0s 68ms/step - loss: 0.0014\n",
            "Epoch 31/300\n",
            "4/4 [==============================] - 0s 72ms/step - loss: 0.0014\n",
            "Epoch 32/300\n",
            "4/4 [==============================] - 0s 67ms/step - loss: 0.0014\n",
            "Epoch 33/300\n",
            "4/4 [==============================] - 0s 67ms/step - loss: 0.0014\n",
            "Epoch 34/300\n",
            "4/4 [==============================] - 0s 64ms/step - loss: 0.0014\n",
            "Epoch 35/300\n",
            "4/4 [==============================] - 0s 63ms/step - loss: 0.0014\n",
            "Epoch 36/300\n",
            "4/4 [==============================] - 0s 65ms/step - loss: 0.0014\n",
            "Epoch 37/300\n",
            "4/4 [==============================] - 0s 69ms/step - loss: 0.0014\n",
            "Epoch 38/300\n",
            "4/4 [==============================] - 0s 62ms/step - loss: 0.0014\n",
            "Epoch 39/300\n",
            "4/4 [==============================] - 0s 63ms/step - loss: 0.0014\n",
            "Epoch 40/300\n",
            "4/4 [==============================] - 0s 62ms/step - loss: 0.0014\n",
            "Epoch 41/300\n",
            "4/4 [==============================] - 0s 68ms/step - loss: 0.0014\n",
            "Epoch 42/300\n",
            "4/4 [==============================] - 0s 62ms/step - loss: 0.0014\n",
            "Epoch 43/300\n",
            "4/4 [==============================] - 0s 69ms/step - loss: 0.0014\n",
            "Epoch 44/300\n",
            "4/4 [==============================] - 0s 70ms/step - loss: 0.0014\n",
            "Epoch 45/300\n",
            "4/4 [==============================] - 0s 68ms/step - loss: 0.0013\n",
            "Epoch 46/300\n",
            "4/4 [==============================] - 0s 64ms/step - loss: 0.0013\n",
            "Epoch 47/300\n",
            "4/4 [==============================] - 0s 66ms/step - loss: 0.0013\n",
            "Epoch 48/300\n",
            "4/4 [==============================] - 0s 65ms/step - loss: 0.0013\n",
            "Epoch 49/300\n",
            "4/4 [==============================] - 0s 75ms/step - loss: 0.0013\n",
            "Epoch 50/300\n",
            "4/4 [==============================] - 0s 73ms/step - loss: 0.0013\n",
            "Epoch 51/300\n",
            "4/4 [==============================] - 0s 71ms/step - loss: 0.0013\n",
            "Epoch 52/300\n",
            "4/4 [==============================] - 0s 65ms/step - loss: 0.0013\n",
            "Epoch 53/300\n",
            "4/4 [==============================] - 0s 61ms/step - loss: 0.0013\n",
            "Epoch 54/300\n",
            "4/4 [==============================] - 0s 60ms/step - loss: 0.0013\n",
            "Epoch 55/300\n",
            "4/4 [==============================] - 0s 72ms/step - loss: 0.0013\n",
            "Epoch 56/300\n",
            "4/4 [==============================] - 0s 68ms/step - loss: 0.0013\n",
            "Epoch 57/300\n",
            "4/4 [==============================] - 0s 71ms/step - loss: 0.0013\n",
            "Epoch 58/300\n",
            "4/4 [==============================] - 0s 71ms/step - loss: 0.0013\n",
            "Epoch 59/300\n",
            "4/4 [==============================] - 0s 69ms/step - loss: 0.0013\n",
            "Epoch 60/300\n",
            "4/4 [==============================] - 0s 61ms/step - loss: 0.0013\n",
            "Epoch 61/300\n",
            "4/4 [==============================] - 0s 65ms/step - loss: 0.0013\n",
            "Epoch 62/300\n",
            "4/4 [==============================] - 0s 67ms/step - loss: 0.0013\n",
            "Epoch 63/300\n",
            "4/4 [==============================] - 0s 80ms/step - loss: 0.0013\n",
            "Epoch 64/300\n",
            "4/4 [==============================] - 0s 71ms/step - loss: 0.0013\n",
            "Epoch 65/300\n",
            "4/4 [==============================] - 0s 68ms/step - loss: 0.0012\n",
            "Epoch 66/300\n",
            "4/4 [==============================] - 0s 66ms/step - loss: 0.0012\n",
            "Epoch 67/300\n",
            "4/4 [==============================] - 0s 73ms/step - loss: 0.0012\n",
            "Epoch 68/300\n",
            "4/4 [==============================] - 0s 72ms/step - loss: 0.0012\n",
            "Epoch 69/300\n",
            "4/4 [==============================] - 0s 71ms/step - loss: 0.0012\n",
            "Epoch 70/300\n",
            "4/4 [==============================] - 0s 65ms/step - loss: 0.0012\n",
            "Epoch 71/300\n",
            "4/4 [==============================] - 0s 61ms/step - loss: 0.0012\n",
            "Epoch 72/300\n",
            "4/4 [==============================] - 0s 64ms/step - loss: 0.0012\n",
            "Epoch 73/300\n",
            "4/4 [==============================] - 0s 69ms/step - loss: 0.0012\n",
            "Epoch 74/300\n",
            "4/4 [==============================] - 0s 66ms/step - loss: 0.0012\n",
            "Epoch 75/300\n",
            "4/4 [==============================] - 0s 67ms/step - loss: 0.0012\n",
            "Epoch 76/300\n",
            "4/4 [==============================] - 0s 65ms/step - loss: 0.0012\n",
            "Epoch 77/300\n",
            "4/4 [==============================] - 0s 67ms/step - loss: 0.0012\n",
            "Epoch 78/300\n",
            "4/4 [==============================] - 0s 68ms/step - loss: 0.0012\n",
            "Epoch 79/300\n",
            "4/4 [==============================] - 0s 65ms/step - loss: 0.0012\n",
            "Epoch 80/300\n",
            "4/4 [==============================] - 0s 69ms/step - loss: 0.0012\n",
            "Epoch 81/300\n",
            "4/4 [==============================] - 0s 73ms/step - loss: 0.0012\n",
            "Epoch 82/300\n",
            "4/4 [==============================] - 0s 78ms/step - loss: 0.0012\n",
            "Epoch 83/300\n",
            "4/4 [==============================] - 0s 70ms/step - loss: 0.0012\n",
            "Epoch 84/300\n",
            "4/4 [==============================] - 0s 70ms/step - loss: 0.0012\n",
            "Epoch 85/300\n",
            "4/4 [==============================] - 0s 68ms/step - loss: 0.0011\n",
            "Epoch 86/300\n",
            "4/4 [==============================] - 0s 64ms/step - loss: 0.0011\n",
            "Epoch 87/300\n",
            "4/4 [==============================] - 0s 68ms/step - loss: 0.0011\n",
            "Epoch 88/300\n",
            "4/4 [==============================] - 0s 73ms/step - loss: 0.0011\n",
            "Epoch 89/300\n",
            "4/4 [==============================] - 0s 65ms/step - loss: 0.0011\n",
            "Epoch 90/300\n",
            "4/4 [==============================] - 0s 67ms/step - loss: 0.0011\n",
            "Epoch 91/300\n",
            "4/4 [==============================] - 0s 77ms/step - loss: 0.0011\n",
            "Epoch 92/300\n",
            "4/4 [==============================] - 0s 74ms/step - loss: 0.0011\n",
            "Epoch 93/300\n",
            "4/4 [==============================] - 0s 71ms/step - loss: 0.0010\n",
            "Epoch 94/300\n",
            "4/4 [==============================] - 0s 68ms/step - loss: 9.6394e-04\n",
            "Epoch 95/300\n",
            "4/4 [==============================] - 0s 65ms/step - loss: 0.0013\n",
            "Epoch 96/300\n",
            "4/4 [==============================] - 0s 67ms/step - loss: 0.0011\n",
            "Epoch 97/300\n",
            "4/4 [==============================] - 0s 64ms/step - loss: 0.0011\n",
            "Epoch 98/300\n",
            "4/4 [==============================] - 0s 72ms/step - loss: 0.0011\n",
            "Epoch 99/300\n",
            "4/4 [==============================] - 0s 70ms/step - loss: 0.0011\n",
            "Epoch 100/300\n",
            "4/4 [==============================] - 0s 78ms/step - loss: 0.0011\n",
            "Epoch 101/300\n",
            "4/4 [==============================] - 0s 77ms/step - loss: 0.0010\n",
            "Epoch 102/300\n",
            "4/4 [==============================] - 0s 72ms/step - loss: 0.0011\n",
            "Epoch 103/300\n",
            "4/4 [==============================] - 0s 70ms/step - loss: 0.0010\n",
            "Epoch 104/300\n",
            "4/4 [==============================] - 0s 73ms/step - loss: 0.0011\n",
            "Epoch 105/300\n",
            "4/4 [==============================] - 0s 69ms/step - loss: 0.0010\n",
            "Epoch 106/300\n",
            "4/4 [==============================] - 0s 74ms/step - loss: 0.0010\n",
            "Epoch 107/300\n",
            "4/4 [==============================] - 0s 67ms/step - loss: 0.0010\n",
            "Epoch 108/300\n",
            "4/4 [==============================] - 0s 66ms/step - loss: 0.0010\n",
            "Epoch 109/300\n",
            "4/4 [==============================] - 0s 75ms/step - loss: 0.0010\n",
            "Epoch 110/300\n",
            "4/4 [==============================] - 0s 74ms/step - loss: 9.9874e-04\n",
            "Epoch 111/300\n",
            "4/4 [==============================] - 0s 66ms/step - loss: 0.0010\n",
            "Epoch 112/300\n",
            "4/4 [==============================] - 0s 66ms/step - loss: 0.0010\n",
            "Epoch 113/300\n",
            "4/4 [==============================] - 0s 69ms/step - loss: 0.0010\n",
            "Epoch 114/300\n",
            "4/4 [==============================] - 0s 67ms/step - loss: 0.0010\n",
            "Epoch 115/300\n",
            "4/4 [==============================] - 0s 70ms/step - loss: 9.8028e-04\n",
            "Epoch 116/300\n",
            "4/4 [==============================] - 0s 65ms/step - loss: 9.9402e-04\n",
            "Epoch 117/300\n",
            "4/4 [==============================] - 0s 66ms/step - loss: 9.9382e-04\n",
            "Epoch 118/300\n",
            "4/4 [==============================] - 0s 69ms/step - loss: 9.7061e-04\n",
            "Epoch 119/300\n",
            "4/4 [==============================] - 0s 75ms/step - loss: 9.5680e-04\n",
            "Epoch 120/300\n",
            "4/4 [==============================] - 0s 74ms/step - loss: 9.4189e-04\n",
            "Epoch 121/300\n",
            "4/4 [==============================] - 0s 67ms/step - loss: 9.4642e-04\n",
            "Epoch 122/300\n",
            "4/4 [==============================] - 0s 72ms/step - loss: 9.2332e-04\n",
            "Epoch 123/300\n",
            "4/4 [==============================] - 0s 74ms/step - loss: 9.1782e-04\n",
            "Epoch 124/300\n",
            "4/4 [==============================] - 0s 73ms/step - loss: 9.1710e-04\n",
            "Epoch 125/300\n",
            "4/4 [==============================] - 0s 65ms/step - loss: 8.9829e-04\n",
            "Epoch 126/300\n",
            "4/4 [==============================] - 0s 77ms/step - loss: 8.9363e-04\n",
            "Epoch 127/300\n",
            "4/4 [==============================] - 0s 74ms/step - loss: 8.8576e-04\n",
            "Epoch 128/300\n",
            "4/4 [==============================] - 0s 70ms/step - loss: 8.8024e-04\n",
            "Epoch 129/300\n",
            "4/4 [==============================] - 0s 72ms/step - loss: 8.9212e-04\n",
            "Epoch 130/300\n",
            "4/4 [==============================] - 0s 72ms/step - loss: 8.8011e-04\n",
            "Epoch 131/300\n",
            "4/4 [==============================] - 0s 77ms/step - loss: 8.5402e-04\n",
            "Epoch 132/300\n",
            "4/4 [==============================] - 0s 73ms/step - loss: 8.5046e-04\n",
            "Epoch 133/300\n",
            "4/4 [==============================] - 0s 73ms/step - loss: 8.5178e-04\n",
            "Epoch 134/300\n",
            "4/4 [==============================] - 0s 75ms/step - loss: 8.5818e-04\n",
            "Epoch 135/300\n",
            "4/4 [==============================] - 0s 75ms/step - loss: 8.7087e-04\n",
            "Epoch 136/300\n",
            "4/4 [==============================] - 0s 77ms/step - loss: 8.2078e-04\n",
            "Epoch 137/300\n",
            "4/4 [==============================] - 0s 81ms/step - loss: 8.1020e-04\n",
            "Epoch 138/300\n",
            "4/4 [==============================] - 0s 72ms/step - loss: 8.0632e-04\n",
            "Epoch 139/300\n",
            "4/4 [==============================] - 0s 74ms/step - loss: 8.0141e-04\n",
            "Epoch 140/300\n",
            "4/4 [==============================] - 0s 77ms/step - loss: 7.9137e-04\n",
            "Epoch 141/300\n",
            "4/4 [==============================] - 0s 62ms/step - loss: 7.8170e-04\n",
            "Epoch 142/300\n",
            "4/4 [==============================] - 0s 67ms/step - loss: 7.8351e-04\n",
            "Epoch 143/300\n",
            "4/4 [==============================] - 0s 66ms/step - loss: 7.6376e-04\n",
            "Epoch 144/300\n",
            "4/4 [==============================] - 0s 75ms/step - loss: 7.5881e-04\n",
            "Epoch 145/300\n",
            "4/4 [==============================] - 0s 67ms/step - loss: 7.5305e-04\n",
            "Epoch 146/300\n",
            "4/4 [==============================] - 0s 65ms/step - loss: 7.5239e-04\n",
            "Epoch 147/300\n",
            "4/4 [==============================] - 0s 67ms/step - loss: 7.4812e-04\n",
            "Epoch 148/300\n",
            "4/4 [==============================] - 0s 61ms/step - loss: 7.2534e-04\n",
            "Epoch 149/300\n",
            "4/4 [==============================] - 0s 70ms/step - loss: 7.2549e-04\n",
            "Epoch 150/300\n",
            "4/4 [==============================] - 0s 64ms/step - loss: 7.0435e-04\n",
            "Epoch 151/300\n",
            "4/4 [==============================] - 0s 64ms/step - loss: 6.9301e-04\n",
            "Epoch 152/300\n",
            "4/4 [==============================] - 0s 65ms/step - loss: 6.7855e-04\n",
            "Epoch 153/300\n",
            "4/4 [==============================] - 0s 67ms/step - loss: 6.8722e-04\n",
            "Epoch 154/300\n",
            "4/4 [==============================] - 0s 66ms/step - loss: 6.6941e-04\n",
            "Epoch 155/300\n",
            "4/4 [==============================] - 0s 64ms/step - loss: 6.4485e-04\n",
            "Epoch 156/300\n",
            "4/4 [==============================] - 0s 69ms/step - loss: 6.2982e-04\n",
            "Epoch 157/300\n",
            "4/4 [==============================] - 0s 65ms/step - loss: 6.3936e-04\n",
            "Epoch 158/300\n",
            "4/4 [==============================] - 0s 65ms/step - loss: 6.5673e-04\n",
            "Epoch 159/300\n",
            "4/4 [==============================] - 0s 65ms/step - loss: 5.8605e-04\n",
            "Epoch 160/300\n",
            "4/4 [==============================] - 0s 69ms/step - loss: 5.2836e-04\n",
            "Epoch 161/300\n",
            "4/4 [==============================] - 0s 81ms/step - loss: 5.0848e-04\n",
            "Epoch 162/300\n",
            "4/4 [==============================] - 0s 70ms/step - loss: 4.8845e-04\n",
            "Epoch 163/300\n",
            "4/4 [==============================] - 0s 72ms/step - loss: 4.2364e-04\n",
            "Epoch 164/300\n",
            "4/4 [==============================] - 0s 65ms/step - loss: 0.0022\n",
            "Epoch 165/300\n",
            "4/4 [==============================] - 0s 65ms/step - loss: 0.0022\n",
            "Epoch 166/300\n",
            "4/4 [==============================] - 0s 68ms/step - loss: 0.0018\n",
            "Epoch 167/300\n",
            "4/4 [==============================] - 0s 74ms/step - loss: 0.0014\n",
            "Epoch 168/300\n",
            "4/4 [==============================] - 0s 70ms/step - loss: 0.0012\n",
            "Epoch 169/300\n",
            "4/4 [==============================] - 0s 69ms/step - loss: 9.7854e-04\n",
            "Epoch 170/300\n",
            "4/4 [==============================] - 0s 65ms/step - loss: 7.9797e-04\n",
            "Epoch 171/300\n",
            "4/4 [==============================] - 0s 66ms/step - loss: 7.6634e-04\n",
            "Epoch 172/300\n",
            "4/4 [==============================] - 0s 64ms/step - loss: 7.1903e-04\n",
            "Epoch 173/300\n",
            "4/4 [==============================] - 0s 63ms/step - loss: 6.8426e-04\n",
            "Epoch 174/300\n",
            "4/4 [==============================] - 0s 78ms/step - loss: 6.5038e-04\n",
            "Epoch 175/300\n",
            "4/4 [==============================] - 0s 60ms/step - loss: 6.4627e-04\n",
            "Epoch 176/300\n",
            "4/4 [==============================] - 0s 63ms/step - loss: 6.4904e-04\n",
            "Epoch 177/300\n",
            "4/4 [==============================] - 0s 66ms/step - loss: 6.5228e-04\n",
            "Epoch 178/300\n",
            "4/4 [==============================] - 0s 66ms/step - loss: 6.1361e-04\n",
            "Epoch 179/300\n",
            "4/4 [==============================] - 0s 66ms/step - loss: 6.0912e-04\n",
            "Epoch 180/300\n",
            "4/4 [==============================] - 0s 76ms/step - loss: 6.0207e-04\n",
            "Epoch 181/300\n",
            "4/4 [==============================] - 0s 76ms/step - loss: 6.1931e-04\n",
            "Epoch 182/300\n",
            "4/4 [==============================] - 0s 75ms/step - loss: 6.0045e-04\n",
            "Epoch 183/300\n",
            "4/4 [==============================] - 0s 68ms/step - loss: 5.9348e-04\n",
            "Epoch 184/300\n",
            "4/4 [==============================] - 0s 69ms/step - loss: 5.7490e-04\n",
            "Epoch 185/300\n",
            "4/4 [==============================] - 0s 69ms/step - loss: 5.6370e-04\n",
            "Epoch 186/300\n",
            "4/4 [==============================] - 0s 67ms/step - loss: 5.5778e-04\n",
            "Epoch 187/300\n",
            "4/4 [==============================] - 0s 71ms/step - loss: 5.4446e-04\n",
            "Epoch 188/300\n",
            "4/4 [==============================] - 0s 84ms/step - loss: 5.4295e-04\n",
            "Epoch 189/300\n",
            "4/4 [==============================] - 0s 66ms/step - loss: 5.3561e-04\n",
            "Epoch 190/300\n",
            "4/4 [==============================] - 0s 65ms/step - loss: 5.3119e-04\n",
            "Epoch 191/300\n",
            "4/4 [==============================] - 0s 62ms/step - loss: 5.4576e-04\n",
            "Epoch 192/300\n",
            "4/4 [==============================] - 0s 65ms/step - loss: 5.5801e-04\n",
            "Epoch 193/300\n",
            "4/4 [==============================] - 0s 66ms/step - loss: 5.2535e-04\n",
            "Epoch 194/300\n",
            "4/4 [==============================] - 0s 71ms/step - loss: 5.0720e-04\n",
            "Epoch 195/300\n",
            "4/4 [==============================] - 0s 64ms/step - loss: 5.1163e-04\n",
            "Epoch 196/300\n",
            "4/4 [==============================] - 0s 64ms/step - loss: 4.7093e-04\n",
            "Epoch 197/300\n",
            "4/4 [==============================] - 0s 83ms/step - loss: 4.6742e-04\n",
            "Epoch 198/300\n",
            "4/4 [==============================] - 0s 63ms/step - loss: 4.6299e-04\n",
            "Epoch 199/300\n",
            "4/4 [==============================] - 0s 65ms/step - loss: 4.6474e-04\n",
            "Epoch 200/300\n",
            "4/4 [==============================] - 0s 61ms/step - loss: 4.3355e-04\n",
            "Epoch 201/300\n",
            "4/4 [==============================] - 0s 66ms/step - loss: 4.2715e-04\n",
            "Epoch 202/300\n",
            "4/4 [==============================] - 0s 72ms/step - loss: 4.1789e-04\n",
            "Epoch 203/300\n",
            "4/4 [==============================] - 0s 74ms/step - loss: 4.3618e-04\n",
            "Epoch 204/300\n",
            "4/4 [==============================] - 0s 77ms/step - loss: 4.2462e-04\n",
            "Epoch 205/300\n",
            "4/4 [==============================] - 0s 71ms/step - loss: 4.0164e-04\n",
            "Epoch 206/300\n",
            "4/4 [==============================] - 0s 76ms/step - loss: 3.8483e-04\n",
            "Epoch 207/300\n",
            "4/4 [==============================] - 0s 67ms/step - loss: 3.7299e-04\n",
            "Epoch 208/300\n",
            "4/4 [==============================] - 0s 70ms/step - loss: 3.8042e-04\n",
            "Epoch 209/300\n",
            "4/4 [==============================] - 0s 62ms/step - loss: 3.6173e-04\n",
            "Epoch 210/300\n",
            "4/4 [==============================] - 0s 65ms/step - loss: 3.6886e-04\n",
            "Epoch 211/300\n",
            "4/4 [==============================] - 0s 66ms/step - loss: 3.7513e-04\n",
            "Epoch 212/300\n",
            "4/4 [==============================] - 0s 62ms/step - loss: 3.3864e-04\n",
            "Epoch 213/300\n",
            "4/4 [==============================] - 0s 61ms/step - loss: 3.2294e-04\n",
            "Epoch 214/300\n",
            "4/4 [==============================] - 0s 64ms/step - loss: 3.0934e-04\n",
            "Epoch 215/300\n",
            "4/4 [==============================] - 0s 62ms/step - loss: 3.0039e-04\n",
            "Epoch 216/300\n",
            "4/4 [==============================] - 0s 66ms/step - loss: 3.1227e-04\n",
            "Epoch 217/300\n",
            "4/4 [==============================] - 0s 69ms/step - loss: 2.9790e-04\n",
            "Epoch 218/300\n",
            "4/4 [==============================] - 0s 61ms/step - loss: 3.0035e-04\n",
            "Epoch 219/300\n",
            "4/4 [==============================] - 0s 67ms/step - loss: 2.9610e-04\n",
            "Epoch 220/300\n",
            "4/4 [==============================] - 0s 64ms/step - loss: 2.7902e-04\n",
            "Epoch 221/300\n",
            "4/4 [==============================] - 0s 66ms/step - loss: 2.8537e-04\n",
            "Epoch 222/300\n",
            "4/4 [==============================] - 0s 68ms/step - loss: 2.6656e-04\n",
            "Epoch 223/300\n",
            "4/4 [==============================] - 0s 73ms/step - loss: 2.5435e-04\n",
            "Epoch 224/300\n",
            "4/4 [==============================] - 0s 73ms/step - loss: 2.6624e-04\n",
            "Epoch 225/300\n",
            "4/4 [==============================] - 0s 71ms/step - loss: 2.4540e-04\n",
            "Epoch 226/300\n",
            "4/4 [==============================] - 0s 67ms/step - loss: 2.2511e-04\n",
            "Epoch 227/300\n",
            "4/4 [==============================] - 0s 67ms/step - loss: 2.3371e-04\n",
            "Epoch 228/300\n",
            "4/4 [==============================] - 0s 69ms/step - loss: 2.2495e-04\n",
            "Epoch 229/300\n",
            "4/4 [==============================] - 0s 68ms/step - loss: 2.2818e-04\n",
            "Epoch 230/300\n",
            "4/4 [==============================] - 0s 62ms/step - loss: 2.4887e-04\n",
            "Epoch 231/300\n",
            "4/4 [==============================] - 0s 70ms/step - loss: 2.5030e-04\n",
            "Epoch 232/300\n",
            "4/4 [==============================] - 0s 71ms/step - loss: 2.5845e-04\n",
            "Epoch 233/300\n",
            "4/4 [==============================] - 0s 70ms/step - loss: 2.4066e-04\n",
            "Epoch 234/300\n",
            "4/4 [==============================] - 0s 65ms/step - loss: 2.7356e-04\n",
            "Epoch 235/300\n",
            "4/4 [==============================] - 0s 69ms/step - loss: 2.1871e-04\n",
            "Epoch 236/300\n",
            "4/4 [==============================] - 0s 69ms/step - loss: 2.1349e-04\n",
            "Epoch 237/300\n",
            "4/4 [==============================] - 0s 64ms/step - loss: 2.1324e-04\n",
            "Epoch 238/300\n",
            "4/4 [==============================] - 0s 69ms/step - loss: 2.1925e-04\n",
            "Epoch 239/300\n",
            "4/4 [==============================] - 0s 69ms/step - loss: 2.6652e-04\n",
            "Epoch 240/300\n",
            "4/4 [==============================] - 0s 69ms/step - loss: 2.7525e-04\n",
            "Epoch 241/300\n",
            "4/4 [==============================] - 0s 76ms/step - loss: 2.2615e-04\n",
            "Epoch 242/300\n",
            "4/4 [==============================] - 0s 81ms/step - loss: 2.4186e-04\n",
            "Epoch 243/300\n",
            "4/4 [==============================] - 0s 80ms/step - loss: 2.2314e-04\n",
            "Epoch 244/300\n",
            "4/4 [==============================] - 0s 72ms/step - loss: 2.2866e-04\n",
            "Epoch 245/300\n",
            "4/4 [==============================] - 0s 69ms/step - loss: 2.5263e-04\n",
            "Epoch 246/300\n",
            "4/4 [==============================] - 0s 67ms/step - loss: 2.5203e-04\n",
            "Epoch 247/300\n",
            "4/4 [==============================] - 0s 75ms/step - loss: 2.3492e-04\n",
            "Epoch 248/300\n",
            "4/4 [==============================] - 0s 75ms/step - loss: 2.2462e-04\n",
            "Epoch 249/300\n",
            "4/4 [==============================] - 0s 78ms/step - loss: 2.2485e-04\n",
            "Epoch 250/300\n",
            "4/4 [==============================] - 0s 69ms/step - loss: 2.1530e-04\n",
            "Epoch 251/300\n",
            "4/4 [==============================] - 0s 76ms/step - loss: 2.7181e-04\n",
            "Epoch 252/300\n",
            "4/4 [==============================] - 0s 78ms/step - loss: 2.8005e-04\n",
            "Epoch 253/300\n",
            "4/4 [==============================] - 0s 74ms/step - loss: 2.2380e-04\n",
            "Epoch 254/300\n",
            "4/4 [==============================] - 0s 72ms/step - loss: 2.3238e-04\n",
            "Epoch 255/300\n",
            "4/4 [==============================] - 0s 76ms/step - loss: 2.3727e-04\n",
            "Epoch 256/300\n",
            "4/4 [==============================] - 0s 74ms/step - loss: 2.4210e-04\n",
            "Epoch 257/300\n",
            "4/4 [==============================] - 0s 79ms/step - loss: 2.4804e-04\n",
            "Epoch 258/300\n",
            "4/4 [==============================] - 0s 77ms/step - loss: 1.9888e-04\n",
            "Epoch 259/300\n",
            "4/4 [==============================] - 0s 80ms/step - loss: 2.0389e-04\n",
            "Epoch 260/300\n",
            "4/4 [==============================] - 0s 64ms/step - loss: 2.2547e-04\n",
            "Epoch 261/300\n",
            "4/4 [==============================] - 0s 62ms/step - loss: 2.1141e-04\n",
            "Epoch 262/300\n",
            "4/4 [==============================] - 0s 65ms/step - loss: 2.1002e-04\n",
            "Epoch 263/300\n",
            "4/4 [==============================] - 0s 66ms/step - loss: 2.6745e-04\n",
            "Epoch 264/300\n",
            "4/4 [==============================] - 0s 65ms/step - loss: 3.2700e-04\n",
            "Epoch 265/300\n",
            "4/4 [==============================] - 0s 69ms/step - loss: 2.8402e-04\n",
            "Epoch 266/300\n",
            "4/4 [==============================] - 0s 73ms/step - loss: 2.8737e-04\n",
            "Epoch 267/300\n",
            "4/4 [==============================] - 0s 63ms/step - loss: 3.2068e-04\n",
            "Epoch 268/300\n",
            "4/4 [==============================] - 0s 73ms/step - loss: 3.7316e-04\n",
            "Epoch 269/300\n",
            "4/4 [==============================] - 0s 77ms/step - loss: 3.2541e-04\n",
            "Epoch 270/300\n",
            "4/4 [==============================] - 0s 65ms/step - loss: 3.7291e-04\n",
            "Epoch 271/300\n",
            "4/4 [==============================] - 0s 65ms/step - loss: 3.7407e-04\n",
            "Epoch 272/300\n",
            "4/4 [==============================] - 0s 69ms/step - loss: 3.4318e-04\n",
            "Epoch 273/300\n",
            "4/4 [==============================] - 0s 69ms/step - loss: 2.4442e-04\n",
            "Epoch 274/300\n",
            "4/4 [==============================] - 0s 73ms/step - loss: 2.5172e-04\n",
            "Epoch 275/300\n",
            "4/4 [==============================] - 0s 63ms/step - loss: 2.7494e-04\n",
            "Epoch 276/300\n",
            "4/4 [==============================] - 0s 65ms/step - loss: 2.3178e-04\n",
            "Epoch 277/300\n",
            "4/4 [==============================] - 0s 63ms/step - loss: 2.0681e-04\n",
            "Epoch 278/300\n",
            "4/4 [==============================] - 0s 67ms/step - loss: 1.8632e-04\n",
            "Epoch 279/300\n",
            "4/4 [==============================] - 0s 65ms/step - loss: 2.0286e-04\n",
            "Epoch 280/300\n",
            "4/4 [==============================] - 0s 67ms/step - loss: 2.0066e-04\n",
            "Epoch 281/300\n",
            "4/4 [==============================] - 0s 63ms/step - loss: 1.8344e-04\n",
            "Epoch 282/300\n",
            "4/4 [==============================] - 0s 68ms/step - loss: 1.8306e-04\n",
            "Epoch 283/300\n",
            "4/4 [==============================] - 0s 65ms/step - loss: 1.8724e-04\n",
            "Epoch 284/300\n",
            "4/4 [==============================] - 0s 65ms/step - loss: 1.8037e-04\n",
            "Epoch 285/300\n",
            "4/4 [==============================] - 0s 64ms/step - loss: 1.8347e-04\n",
            "Epoch 286/300\n",
            "4/4 [==============================] - 0s 66ms/step - loss: 1.8068e-04\n",
            "Epoch 287/300\n",
            "4/4 [==============================] - 0s 67ms/step - loss: 1.9387e-04\n",
            "Epoch 288/300\n",
            "4/4 [==============================] - 0s 66ms/step - loss: 1.8822e-04\n",
            "Epoch 289/300\n",
            "4/4 [==============================] - 0s 72ms/step - loss: 1.8794e-04\n",
            "Epoch 290/300\n",
            "4/4 [==============================] - 0s 65ms/step - loss: 1.7932e-04\n",
            "Epoch 291/300\n",
            "4/4 [==============================] - 0s 65ms/step - loss: 2.2052e-04\n",
            "Epoch 292/300\n",
            "4/4 [==============================] - 0s 63ms/step - loss: 2.0701e-04\n",
            "Epoch 293/300\n",
            "4/4 [==============================] - 0s 67ms/step - loss: 2.3179e-04\n",
            "Epoch 294/300\n",
            "4/4 [==============================] - 0s 66ms/step - loss: 2.0614e-04\n",
            "Epoch 295/300\n",
            "4/4 [==============================] - 0s 74ms/step - loss: 2.4769e-04\n",
            "Epoch 296/300\n",
            "4/4 [==============================] - 0s 66ms/step - loss: 2.6931e-04\n",
            "Epoch 297/300\n",
            "4/4 [==============================] - 0s 66ms/step - loss: 2.4302e-04\n",
            "Epoch 298/300\n",
            "4/4 [==============================] - 0s 65ms/step - loss: 1.9023e-04\n",
            "Epoch 299/300\n",
            "4/4 [==============================] - 0s 67ms/step - loss: 1.9087e-04\n",
            "Epoch 300/300\n",
            "4/4 [==============================] - 0s 77ms/step - loss: 1.8558e-04\n"
          ]
        }
      ]
    },
    {
      "cell_type": "code",
      "metadata": {
        "id": "626bz4tSAa7D"
      },
      "source": [
        "pred = m.predict(X_test).ravel()\n"
      ],
      "execution_count": 16,
      "outputs": []
    },
    {
      "cell_type": "code",
      "metadata": {
        "id": "tinCSsREJ82L",
        "outputId": "a9d38c67-d87e-4cdc-91bc-7d2bc1b31aba",
        "colab": {
          "base_uri": "https://localhost:8080/",
          "height": 296
        }
      },
      "source": [
        "plt.xlabel('# Epoca')\n",
        "plt.xlabel('# Magnitud de perdida')\n",
        "plt.plot(historial.history[\"loss\"])"
      ],
      "execution_count": 17,
      "outputs": [
        {
          "output_type": "execute_result",
          "data": {
            "text/plain": [
              "[<matplotlib.lines.Line2D at 0x7f4303f61950>]"
            ]
          },
          "metadata": {},
          "execution_count": 17
        },
        {
          "output_type": "display_data",
          "data": {
            "image/png": "[encoded data removed]",
            "text/plain": [
              "<Figure size 432x288 with 1 Axes>"
            ]
          },
          "metadata": {
            "needs_background": "light"
          }
        }
      ]
    },
    {
      "cell_type": "code",
      "metadata": {
        "colab": {
          "base_uri": "https://localhost:8080/",
          "height": 407
        },
        "id": "YmFW_2SrBKNN",
        "outputId": "53aceb27-2f5b-460d-f7f6-7cae5785a365"
      },
      "source": [
        "plt.figure(figsize=(12,6))\n",
        "\n",
        "plt.plot(pred, label='T2V')\n",
        "plt.plot(y_test.ravel(), label='true')\n",
        "plt.title('T2V predict'); plt.legend()"
      ],
      "execution_count": 18,
      "outputs": [
        {
          "output_type": "execute_result",
          "data": {
            "text/plain": [
              "<matplotlib.legend.Legend at 0x7f4303fcb690>"
            ]
          },
          "metadata": {},
          "execution_count": 18
        },
        {
          "output_type": "display_data",
          "data": {
            "image/png": "[encoded data removed]",
            "text/plain": [
              "<Figure size 864x432 with 1 Axes>"
            ]
          },
          "metadata": {
            "needs_background": "light"
          }
        }
      ]
    },
    {
      "cell_type": "code",
      "metadata": {
        "colab": {
          "base_uri": "https://localhost:8080/",
          "height": 407
        },
        "id": "TfBPpvyrB2z2",
        "outputId": "639350f4-842d-43a2-ac33-c7fefc6fb209"
      },
      "source": [
        "plt.figure(figsize=(12,6))\n",
        "\n",
        "plt.plot(pred[:100], label='T2V')\n",
        "plt.plot(y_test[:100].ravel(), label='true')\n",
        "plt.title('T2V predict'); plt.legend()"
      ],
      "execution_count": 19,
      "outputs": [
        {
          "output_type": "execute_result",
          "data": {
            "text/plain": [
              "<matplotlib.legend.Legend at 0x7f4303e6ff90>"
            ]
          },
          "metadata": {},
          "execution_count": 19
        },
        {
          "output_type": "display_data",
          "data": {
            "image/png": "[encoded data removed]",
            "text/plain": [
              "<Figure size 864x432 with 1 Axes>"
            ]
          },
          "metadata": {
            "needs_background": "light"
          }
        }
      ]
    },
    {
      "cell_type": "code",
      "metadata": {
        "colab": {
          "base_uri": "https://localhost:8080/"
        },
        "id": "80yb6R_WCHR4",
        "outputId": "0626336d-549e-4d5d-a0cc-b31a1edb307b"
      },
      "source": [
        "print(mean_absolute_error(y_test.ravel(), pred))\n",
        "log_metric(\"MAE\",mean_absolute_error(y_test.ravel(), pred)) "
      ],
      "execution_count": 20,
      "outputs": [
        {
          "output_type": "stream",
          "name": "stdout",
          "text": [
            "0.011414381351470984\n"
          ]
        }
      ]
    },
    {
      "cell_type": "code",
      "metadata": {
        "colab": {
          "base_uri": "https://localhost:8080/"
        },
        "id": "iB7zdtqkmuZB",
        "outputId": "f72a7820-1416-44e4-e5c0-27b190c467fe"
      },
      "source": [
        "!mlflow ui"
      ],
      "execution_count": null,
      "outputs": [
        {
          "output_type": "stream",
          "name": "stdout",
          "text": [
            "[2021-12-05 20:00:08 +0000] [729] [INFO] Starting gunicorn 20.1.0\n",
            "[2021-12-05 20:00:08 +0000] [729] [INFO] Listening at: http://127.0.0.1:5000 (729)\n",
            "[2021-12-05 20:00:08 +0000] [729] [INFO] Using worker: sync\n",
            "[2021-12-05 20:00:08 +0000] [732] [INFO] Booting worker with pid: 732\n"
          ]
        }
      ]
    }
  ]
}