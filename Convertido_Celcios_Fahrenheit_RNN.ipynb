{
  "nbformat": 4,
  "nbformat_minor": 0,
  "metadata": {
    "colab": {
      "name": "Convertido_Celcios_Fahrenheit_RNN.ipynb",
      "provenance": [],
      "authorship_tag": "ABX9TyM9BKn65tiRnHDvkN/x57qF",
      "include_colab_link": true
    },
    "kernelspec": {
      "name": "python3",
      "display_name": "Python 3"
    },
    "language_info": {
      "name": "python"
    }
  },
  "cells": [
    {
      "cell_type": "markdown",
      "metadata": {
        "id": "view-in-github",
        "colab_type": "text"
      },
      "source": [
        "<a href=\"https://colab.research.google.com/github/yosbel-penate/AppEFThreading/blob/master/Convertido_Celcios_Fahrenheit_RNN.ipynb\" target=\"_parent\"><img src=\"https://colab.research.google.com/assets/colab-badge.svg\" alt=\"Open In Colab\"/></a>"
      ]
    },
    {
      "cell_type": "code",
      "metadata": {
        "id": "uXe_JIO_PP8i"
      },
      "source": [
        "import tensorflow as tf\n",
        "import numpy as np"
      ],
      "execution_count": 70,
      "outputs": []
    },
    {
      "cell_type": "code",
      "metadata": {
        "id": "2anBhAX-R_Xk"
      },
      "source": [
        "celcius= np.array([-40,-10, 0, 8, 15, 22, 38], dtype=float)\n",
        "fahrenheit= np.array([-40,14, 32, 46, 59, 72, 100], dtype=float)"
      ],
      "execution_count": 71,
      "outputs": []
    },
    {
      "cell_type": "code",
      "metadata": {
        "id": "4zOW_7ewSxHj"
      },
      "source": [
        "#capa=tf.keras.layers.Dense(units=1, input_shape=[1])\n",
        "#modelo=tf.keras.Sequential([capa])\n",
        "\n",
        "oculta1=tf.keras.layers.Dense(units=3, input_shape=[1])\n",
        "oculta2=tf.keras.layers.Dense(units=3)\n",
        "salida=tf.keras.layers.Dense(units=1)\n",
        "modelo=tf.keras.Sequential([oculta1, oculta2, salida])"
      ],
      "execution_count": 72,
      "outputs": []
    },
    {
      "cell_type": "code",
      "metadata": {
        "id": "YH9dJPsFTfe2"
      },
      "source": [
        "modelo.compile(\n",
        "    optimizer=tf.keras.optimizers.Adam(0.1),\n",
        "    loss='mean_squared_error'\n",
        ")"
      ],
      "execution_count": 73,
      "outputs": []
    },
    {
      "cell_type": "code",
      "metadata": {
        "colab": {
          "base_uri": "https://localhost:8080/"
        },
        "id": "KgK2U_94UMFt",
        "outputId": "b9a3d349-dccd-4b45-a1c4-f1630631b74a"
      },
      "source": [
        "print('Comienza entrenamiento...')\n",
        "historial=modelo.fit(celcius, fahrenheit, epochs=100, verbose=False)\n",
        "print('Termina entrenamiento...')"
      ],
      "execution_count": 74,
      "outputs": [
        {
          "output_type": "stream",
          "name": "stdout",
          "text": [
            "Comienza entrenamiento...\n",
            "Termina entrenamiento...\n"
          ]
        }
      ]
    },
    {
      "cell_type": "code",
      "metadata": {
        "colab": {
          "base_uri": "https://localhost:8080/",
          "height": 296
        },
        "id": "d01lMQWOU7r8",
        "outputId": "d5c70b68-5917-426e-910c-26ef114a7242"
      },
      "source": [
        "import matplotlib.pyplot as plt\n",
        "plt.xlabel('# Epoca')\n",
        "plt.xlabel('# Magnitud de perdida')\n",
        "plt.plot(historial.history[\"loss\"])"
      ],
      "execution_count": 75,
      "outputs": [
        {
          "output_type": "execute_result",
          "data": {
            "text/plain": [
              "[<matplotlib.lines.Line2D at 0x7f1d83409410>]"
            ]
          },
          "metadata": {},
          "execution_count": 75
        },
        {
          "output_type": "display_data",
          "data": {
            "image/png": "[encoded data removed]",
            "text/plain": [
              "<Figure size 432x288 with 1 Axes>"
            ]
          },
          "metadata": {
            "needs_background": "light"
          }
        }
      ]
    },
    {
      "cell_type": "code",
      "metadata": {
        "colab": {
          "base_uri": "https://localhost:8080/"
        },
        "id": "AjXfUt8rW2f8",
        "outputId": "f30f77fe-c7db-4c64-f0ac-1580c8890e21"
      },
      "source": [
        "resultado=modelo.predict([15.0])\n",
        "print(resultado)"
      ],
      "execution_count": 80,
      "outputs": [
        {
          "output_type": "stream",
          "name": "stdout",
          "text": [
            "[[59.216763]]\n"
          ]
        }
      ]
    },
    {
      "cell_type": "code",
      "metadata": {
        "colab": {
          "base_uri": "https://localhost:8080/"
        },
        "id": "9YK65NLRXTMx",
        "outputId": "d4f6e3b1-2b10-432c-e695-c42b325c361e"
      },
      "source": [
        "print(modelo.get_weights())"
      ],
      "execution_count": 77,
      "outputs": [
        {
          "output_type": "stream",
          "name": "stdout",
          "text": [
            "[array([[ 0.06317839, -0.1838973 , -0.53655183]], dtype=float32), array([-2.5853086, -3.5218341, -3.8613615], dtype=float32), array([[ 0.34099615,  0.02356258, -0.54492706],\n",
            "       [ 0.20775889, -0.24970156, -1.4581891 ],\n",
            "       [ 1.0593647 , -0.83854264, -1.3874276 ]], dtype=float32), array([-2.7859452,  3.912945 ,  3.9931736], dtype=float32), array([[-0.66582865],\n",
            "       [ 0.6477015 ],\n",
            "       [ 1.1161845 ]], dtype=float32), array([3.608499], dtype=float32)]\n"
          ]
        }
      ]
    }
  ]
}