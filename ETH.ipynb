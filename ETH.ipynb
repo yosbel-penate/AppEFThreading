{
  "nbformat": 4,
  "nbformat_minor": 0,
  "metadata": {
    "colab": {
      "name": "ETH.ipynb",
      "provenance": [],
      "collapsed_sections": [],
      "include_colab_link": true
    },
    "kernelspec": {
      "name": "python3",
      "display_name": "Python 3"
    },
    "language_info": {
      "name": "python"
    }
  },
  "cells": [
    {
      "cell_type": "markdown",
      "metadata": {
        "id": "view-in-github",
        "colab_type": "text"
      },
      "source": [
        "<a href=\"https://colab.research.google.com/github/yosbel-penate/AppEFThreading/blob/master/ETH.ipynb\" target=\"_parent\"><img src=\"https://colab.research.google.com/assets/colab-badge.svg\" alt=\"Open In Colab\"/></a>"
      ]
    },
    {
      "cell_type": "markdown",
      "metadata": {
        "id": "55kAO0Cjo_o8"
      },
      "source": [
        "# Mejor día para compra de ETH de acuerdo a análisis histórico de apertura y cierre\n",
        "\n",
        "Fuente de dataset: https://www.cryptodatadownload.com/\n"
      ]
    },
    {
      "cell_type": "markdown",
      "metadata": {
        "id": "ZlZKZgfKstwz"
      },
      "source": [
        "##  1. Obtener dataset completo"
      ]
    },
    {
      "cell_type": "code",
      "metadata": {
        "id": "vr4oYQKnHcJJ"
      },
      "source": [
        "import pandas as pd\n",
        "import matplotlib.pyplot as plt"
      ],
      "execution_count": null,
      "outputs": []
    },
    {
      "cell_type": "code",
      "metadata": {
        "colab": {
          "base_uri": "https://localhost:8080/",
          "height": 142
        },
        "id": "q7NvL8oJUUDn",
        "outputId": "0eebaff1-865b-4bd2-cb98-7396255739bf"
      },
      "source": [
        "df = pd.read_csv('https://raw.githubusercontent.com/alnunez/crypto_coins_historical_data/main/Binance_ETHUSDT_d.csv', skiprows=[0])\n",
        "df.sample(3)"
      ],
      "execution_count": null,
      "outputs": [
        {
          "output_type": "execute_result",
          "data": {
            "text/html": [
              "<div>\n",
              "<style scoped>\n",
              "    .dataframe tbody tr th:only-of-type {\n",
              "        vertical-align: middle;\n",
              "    }\n",
              "\n",
              "    .dataframe tbody tr th {\n",
              "        vertical-align: top;\n",
              "    }\n",
              "\n",
              "    .dataframe thead th {\n",
              "        text-align: right;\n",
              "    }\n",
              "</style>\n",
              "<table border=\"1\" class=\"dataframe\">\n",
              "  <thead>\n",
              "    <tr style=\"text-align: right;\">\n",
              "      <th></th>\n",
              "      <th>unix</th>\n",
              "      <th>date</th>\n",
              "      <th>symbol</th>\n",
              "      <th>open</th>\n",
              "      <th>high</th>\n",
              "      <th>low</th>\n",
              "      <th>close</th>\n",
              "      <th>Volume ETH</th>\n",
              "      <th>Volume USDT</th>\n",
              "      <th>tradecount</th>\n",
              "    </tr>\n",
              "  </thead>\n",
              "  <tbody>\n",
              "    <tr>\n",
              "      <th>849</th>\n",
              "      <td>1.551139e+12</td>\n",
              "      <td>2019-02-26 00:00:00</td>\n",
              "      <td>ETH/USDT</td>\n",
              "      <td>137.88</td>\n",
              "      <td>138.41</td>\n",
              "      <td>133.72</td>\n",
              "      <td>136.22</td>\n",
              "      <td>432944.17033</td>\n",
              "      <td>5.897993e+07</td>\n",
              "      <td>145787.0</td>\n",
              "    </tr>\n",
              "    <tr>\n",
              "      <th>70</th>\n",
              "      <td>1.618445e+12</td>\n",
              "      <td>2021-04-15 00:00:00</td>\n",
              "      <td>ETH/USDT</td>\n",
              "      <td>2432.59</td>\n",
              "      <td>2543.47</td>\n",
              "      <td>2400.00</td>\n",
              "      <td>2514.04</td>\n",
              "      <td>681950.96645</td>\n",
              "      <td>1.680063e+09</td>\n",
              "      <td>1462768.0</td>\n",
              "    </tr>\n",
              "    <tr>\n",
              "      <th>1007</th>\n",
              "      <td>1.537488e+12</td>\n",
              "      <td>2018-09-21 00:00:00</td>\n",
              "      <td>ETH/USDT</td>\n",
              "      <td>224.00</td>\n",
              "      <td>252.11</td>\n",
              "      <td>220.66</td>\n",
              "      <td>247.73</td>\n",
              "      <td>841029.12948</td>\n",
              "      <td>1.952257e+08</td>\n",
              "      <td>257566.0</td>\n",
              "    </tr>\n",
              "  </tbody>\n",
              "</table>\n",
              "</div>"
            ],
            "text/plain": [
              "              unix                 date  ...   Volume USDT  tradecount\n",
              "849   1.551139e+12  2019-02-26 00:00:00  ...  5.897993e+07    145787.0\n",
              "70    1.618445e+12  2021-04-15 00:00:00  ...  1.680063e+09   1462768.0\n",
              "1007  1.537488e+12  2018-09-21 00:00:00  ...  1.952257e+08    257566.0\n",
              "\n",
              "[3 rows x 10 columns]"
            ]
          },
          "metadata": {
            "tags": []
          },
          "execution_count": 3
        }
      ]
    },
    {
      "cell_type": "code",
      "metadata": {
        "colab": {
          "base_uri": "https://localhost:8080/"
        },
        "id": "7jhpS8iklKTc",
        "outputId": "a8e67e4a-aa65-4f3a-e4ae-bb018e9d9361"
      },
      "source": [
        "df.info()"
      ],
      "execution_count": null,
      "outputs": [
        {
          "output_type": "stream",
          "text": [
            "<class 'pandas.core.frame.DataFrame'>\n",
            "RangeIndex: 1409 entries, 0 to 1408\n",
            "Data columns (total 10 columns):\n",
            " #   Column       Non-Null Count  Dtype  \n",
            "---  ------       --------------  -----  \n",
            " 0   unix         1409 non-null   float64\n",
            " 1   date         1409 non-null   object \n",
            " 2   symbol       1409 non-null   object \n",
            " 3   open         1409 non-null   float64\n",
            " 4   high         1409 non-null   float64\n",
            " 5   low          1409 non-null   float64\n",
            " 6   close        1409 non-null   float64\n",
            " 7   Volume ETH   1409 non-null   float64\n",
            " 8   Volume USDT  1409 non-null   float64\n",
            " 9   tradecount   1285 non-null   float64\n",
            "dtypes: float64(8), object(2)\n",
            "memory usage: 110.2+ KB\n"
          ],
          "name": "stdout"
        }
      ]
    },
    {
      "cell_type": "markdown",
      "metadata": {
        "id": "W_i8LIxus7jl"
      },
      "source": [
        "## 2. Limpiar datos"
      ]
    },
    {
      "cell_type": "code",
      "metadata": {
        "id": "jVO1MYIHmaoc"
      },
      "source": [
        "# Eliminar columnas irrelevantes\n",
        "df.drop(['unix',\t'symbol',\t'high',\t'low',\t'Volume USDT',\t'Volume ETH',\t'tradecount'], axis=1, inplace=True) "
      ],
      "execution_count": null,
      "outputs": []
    },
    {
      "cell_type": "code",
      "metadata": {
        "id": "qcsAqwdLY1Ae",
        "colab": {
          "base_uri": "https://localhost:8080/",
          "height": 419
        },
        "outputId": "803d4792-5dbb-445e-ffa5-9787d0cb817b"
      },
      "source": [
        "# Restrigir datos a 365 días\n",
        "df = df.head(365)\n",
        "df"
      ],
      "execution_count": null,
      "outputs": [
        {
          "output_type": "execute_result",
          "data": {
            "text/html": [
              "<div>\n",
              "<style scoped>\n",
              "    .dataframe tbody tr th:only-of-type {\n",
              "        vertical-align: middle;\n",
              "    }\n",
              "\n",
              "    .dataframe tbody tr th {\n",
              "        vertical-align: top;\n",
              "    }\n",
              "\n",
              "    .dataframe thead th {\n",
              "        text-align: right;\n",
              "    }\n",
              "</style>\n",
              "<table border=\"1\" class=\"dataframe\">\n",
              "  <thead>\n",
              "    <tr style=\"text-align: right;\">\n",
              "      <th></th>\n",
              "      <th>date</th>\n",
              "      <th>open</th>\n",
              "      <th>close</th>\n",
              "    </tr>\n",
              "  </thead>\n",
              "  <tbody>\n",
              "    <tr>\n",
              "      <th>0</th>\n",
              "      <td>2021-06-24 00:00:00</td>\n",
              "      <td>1967.95</td>\n",
              "      <td>1962.17</td>\n",
              "    </tr>\n",
              "    <tr>\n",
              "      <th>1</th>\n",
              "      <td>2021-06-23 00:00:00</td>\n",
              "      <td>1879.29</td>\n",
              "      <td>1968.14</td>\n",
              "    </tr>\n",
              "    <tr>\n",
              "      <th>2</th>\n",
              "      <td>2021-06-22 00:00:00</td>\n",
              "      <td>1885.27</td>\n",
              "      <td>1879.28</td>\n",
              "    </tr>\n",
              "    <tr>\n",
              "      <th>3</th>\n",
              "      <td>2021-06-21 00:00:00</td>\n",
              "      <td>2243.49</td>\n",
              "      <td>1885.49</td>\n",
              "    </tr>\n",
              "    <tr>\n",
              "      <th>4</th>\n",
              "      <td>2021-06-20 00:00:00</td>\n",
              "      <td>2165.34</td>\n",
              "      <td>2243.47</td>\n",
              "    </tr>\n",
              "    <tr>\n",
              "      <th>...</th>\n",
              "      <td>...</td>\n",
              "      <td>...</td>\n",
              "      <td>...</td>\n",
              "    </tr>\n",
              "    <tr>\n",
              "      <th>360</th>\n",
              "      <td>2020-06-29 00:00:00</td>\n",
              "      <td>224.89</td>\n",
              "      <td>227.93</td>\n",
              "    </tr>\n",
              "    <tr>\n",
              "      <th>361</th>\n",
              "      <td>2020-06-28 00:00:00</td>\n",
              "      <td>220.94</td>\n",
              "      <td>224.93</td>\n",
              "    </tr>\n",
              "    <tr>\n",
              "      <th>362</th>\n",
              "      <td>2020-06-27 00:00:00</td>\n",
              "      <td>229.66</td>\n",
              "      <td>220.94</td>\n",
              "    </tr>\n",
              "    <tr>\n",
              "      <th>363</th>\n",
              "      <td>2020-06-26 00:00:00</td>\n",
              "      <td>232.49</td>\n",
              "      <td>229.64</td>\n",
              "    </tr>\n",
              "    <tr>\n",
              "      <th>364</th>\n",
              "      <td>2020-06-25 00:00:00</td>\n",
              "      <td>234.57</td>\n",
              "      <td>232.50</td>\n",
              "    </tr>\n",
              "  </tbody>\n",
              "</table>\n",
              "<p>365 rows × 3 columns</p>\n",
              "</div>"
            ],
            "text/plain": [
              "                    date     open    close\n",
              "0    2021-06-24 00:00:00  1967.95  1962.17\n",
              "1    2021-06-23 00:00:00  1879.29  1968.14\n",
              "2    2021-06-22 00:00:00  1885.27  1879.28\n",
              "3    2021-06-21 00:00:00  2243.49  1885.49\n",
              "4    2021-06-20 00:00:00  2165.34  2243.47\n",
              "..                   ...      ...      ...\n",
              "360  2020-06-29 00:00:00   224.89   227.93\n",
              "361  2020-06-28 00:00:00   220.94   224.93\n",
              "362  2020-06-27 00:00:00   229.66   220.94\n",
              "363  2020-06-26 00:00:00   232.49   229.64\n",
              "364  2020-06-25 00:00:00   234.57   232.50\n",
              "\n",
              "[365 rows x 3 columns]"
            ]
          },
          "metadata": {
            "tags": []
          },
          "execution_count": 6
        }
      ]
    },
    {
      "cell_type": "code",
      "metadata": {
        "id": "pFSmpmIjesPM"
      },
      "source": [
        "# Crear la columna delta\n",
        "df.insert(3, 'delta', df['close']-df['open'])  "
      ],
      "execution_count": null,
      "outputs": []
    },
    {
      "cell_type": "code",
      "metadata": {
        "id": "BoIQJUnXpSIA"
      },
      "source": [
        "# Hallar % de variación diario\n",
        "df.insert(2, '% var', (df['delta']/df['open'])*100)"
      ],
      "execution_count": null,
      "outputs": []
    },
    {
      "cell_type": "code",
      "metadata": {
        "id": "MDx1TK8PTDM7"
      },
      "source": [
        "# Convertir formato de date a tipo datetime\n",
        "df['date'] = pd.to_datetime(df['date'])"
      ],
      "execution_count": null,
      "outputs": []
    },
    {
      "cell_type": "code",
      "metadata": {
        "id": "VYmxNOT_Sa7q"
      },
      "source": [
        "# Convertir fecha a nombre del día de la semana\n",
        "df['day'] = df['date'].dt.day_name()"
      ],
      "execution_count": null,
      "outputs": []
    },
    {
      "cell_type": "code",
      "metadata": {
        "colab": {
          "base_uri": "https://localhost:8080/",
          "height": 419
        },
        "id": "_dFpY1TaUFeR",
        "outputId": "9c86a9e4-0193-4b40-c0ad-8d31540f5e77"
      },
      "source": [
        "# Filtrar variaciones negativas\n",
        "df_neg = df[df['% var'] < 0]\n",
        "df_neg"
      ],
      "execution_count": null,
      "outputs": [
        {
          "output_type": "execute_result",
          "data": {
            "text/html": [
              "<div>\n",
              "<style scoped>\n",
              "    .dataframe tbody tr th:only-of-type {\n",
              "        vertical-align: middle;\n",
              "    }\n",
              "\n",
              "    .dataframe tbody tr th {\n",
              "        vertical-align: top;\n",
              "    }\n",
              "\n",
              "    .dataframe thead th {\n",
              "        text-align: right;\n",
              "    }\n",
              "</style>\n",
              "<table border=\"1\" class=\"dataframe\">\n",
              "  <thead>\n",
              "    <tr style=\"text-align: right;\">\n",
              "      <th></th>\n",
              "      <th>date</th>\n",
              "      <th>open</th>\n",
              "      <th>% var</th>\n",
              "      <th>close</th>\n",
              "      <th>delta</th>\n",
              "      <th>day</th>\n",
              "    </tr>\n",
              "  </thead>\n",
              "  <tbody>\n",
              "    <tr>\n",
              "      <th>0</th>\n",
              "      <td>2021-06-24</td>\n",
              "      <td>1967.95</td>\n",
              "      <td>-0.293707</td>\n",
              "      <td>1962.17</td>\n",
              "      <td>-5.78</td>\n",
              "      <td>Thursday</td>\n",
              "    </tr>\n",
              "    <tr>\n",
              "      <th>2</th>\n",
              "      <td>2021-06-22</td>\n",
              "      <td>1885.27</td>\n",
              "      <td>-0.317726</td>\n",
              "      <td>1879.28</td>\n",
              "      <td>-5.99</td>\n",
              "      <td>Tuesday</td>\n",
              "    </tr>\n",
              "    <tr>\n",
              "      <th>3</th>\n",
              "      <td>2021-06-21</td>\n",
              "      <td>2243.49</td>\n",
              "      <td>-15.957281</td>\n",
              "      <td>1885.49</td>\n",
              "      <td>-358.00</td>\n",
              "      <td>Monday</td>\n",
              "    </tr>\n",
              "    <tr>\n",
              "      <th>5</th>\n",
              "      <td>2021-06-19</td>\n",
              "      <td>2234.09</td>\n",
              "      <td>-3.107305</td>\n",
              "      <td>2164.67</td>\n",
              "      <td>-69.42</td>\n",
              "      <td>Saturday</td>\n",
              "    </tr>\n",
              "    <tr>\n",
              "      <th>6</th>\n",
              "      <td>2021-06-18</td>\n",
              "      <td>2373.28</td>\n",
              "      <td>-5.864879</td>\n",
              "      <td>2234.09</td>\n",
              "      <td>-139.19</td>\n",
              "      <td>Friday</td>\n",
              "    </tr>\n",
              "    <tr>\n",
              "      <th>...</th>\n",
              "      <td>...</td>\n",
              "      <td>...</td>\n",
              "      <td>...</td>\n",
              "      <td>...</td>\n",
              "      <td>...</td>\n",
              "      <td>...</td>\n",
              "    </tr>\n",
              "    <tr>\n",
              "      <th>357</th>\n",
              "      <td>2020-07-02</td>\n",
              "      <td>230.99</td>\n",
              "      <td>-1.961124</td>\n",
              "      <td>226.46</td>\n",
              "      <td>-4.53</td>\n",
              "      <td>Thursday</td>\n",
              "    </tr>\n",
              "    <tr>\n",
              "      <th>359</th>\n",
              "      <td>2020-06-30</td>\n",
              "      <td>227.98</td>\n",
              "      <td>-1.043951</td>\n",
              "      <td>225.60</td>\n",
              "      <td>-2.38</td>\n",
              "      <td>Tuesday</td>\n",
              "    </tr>\n",
              "    <tr>\n",
              "      <th>362</th>\n",
              "      <td>2020-06-27</td>\n",
              "      <td>229.66</td>\n",
              "      <td>-3.796917</td>\n",
              "      <td>220.94</td>\n",
              "      <td>-8.72</td>\n",
              "      <td>Saturday</td>\n",
              "    </tr>\n",
              "    <tr>\n",
              "      <th>363</th>\n",
              "      <td>2020-06-26</td>\n",
              "      <td>232.49</td>\n",
              "      <td>-1.225859</td>\n",
              "      <td>229.64</td>\n",
              "      <td>-2.85</td>\n",
              "      <td>Friday</td>\n",
              "    </tr>\n",
              "    <tr>\n",
              "      <th>364</th>\n",
              "      <td>2020-06-25</td>\n",
              "      <td>234.57</td>\n",
              "      <td>-0.882466</td>\n",
              "      <td>232.50</td>\n",
              "      <td>-2.07</td>\n",
              "      <td>Thursday</td>\n",
              "    </tr>\n",
              "  </tbody>\n",
              "</table>\n",
              "<p>155 rows × 6 columns</p>\n",
              "</div>"
            ],
            "text/plain": [
              "          date     open      % var    close   delta       day\n",
              "0   2021-06-24  1967.95  -0.293707  1962.17   -5.78  Thursday\n",
              "2   2021-06-22  1885.27  -0.317726  1879.28   -5.99   Tuesday\n",
              "3   2021-06-21  2243.49 -15.957281  1885.49 -358.00    Monday\n",
              "5   2021-06-19  2234.09  -3.107305  2164.67  -69.42  Saturday\n",
              "6   2021-06-18  2373.28  -5.864879  2234.09 -139.19    Friday\n",
              "..         ...      ...        ...      ...     ...       ...\n",
              "357 2020-07-02   230.99  -1.961124   226.46   -4.53  Thursday\n",
              "359 2020-06-30   227.98  -1.043951   225.60   -2.38   Tuesday\n",
              "362 2020-06-27   229.66  -3.796917   220.94   -8.72  Saturday\n",
              "363 2020-06-26   232.49  -1.225859   229.64   -2.85    Friday\n",
              "364 2020-06-25   234.57  -0.882466   232.50   -2.07  Thursday\n",
              "\n",
              "[155 rows x 6 columns]"
            ]
          },
          "metadata": {
            "tags": []
          },
          "execution_count": 11
        }
      ]
    },
    {
      "cell_type": "code",
      "metadata": {
        "id": "_sn-DTB1iYai"
      },
      "source": [
        "# Agrupar por día, eliminar columnas irrelevantes, ordenar descendente.\n",
        "df_count = df_neg.groupby('day').count()\n",
        "df_count.drop(['date','delta','open','close'], axis=1, inplace=True)\n",
        "df_count.sort_values('% var', ascending=False)\n",
        "df_count.columns = ['count']"
      ],
      "execution_count": null,
      "outputs": []
    },
    {
      "cell_type": "code",
      "metadata": {
        "id": "IGsx-QfQ_iiY"
      },
      "source": [
        "# Ordenar index por días de la semana\n",
        "def sorter(column):\n",
        "    order_day = ['Monday', 'Tuesday', 'Wednesday','Thursday','Friday','Saturday','Sunday']\n",
        "    cat = pd.Categorical(column, categories=order_day, ordered=True)\n",
        "    return pd.Series(cat)"
      ],
      "execution_count": null,
      "outputs": []
    },
    {
      "cell_type": "code",
      "metadata": {
        "colab": {
          "base_uri": "https://localhost:8080/",
          "height": 297
        },
        "id": "QQ76WTivB83V",
        "outputId": "203ba76f-39f0-466c-ea7e-0f91b2cd4b18"
      },
      "source": [
        "df_count_sorted = df_count.sort_values(by=\"day\", key=sorter)\n",
        "df_count_sorted"
      ],
      "execution_count": null,
      "outputs": [
        {
          "output_type": "execute_result",
          "data": {
            "text/html": [
              "<div>\n",
              "<style scoped>\n",
              "    .dataframe tbody tr th:only-of-type {\n",
              "        vertical-align: middle;\n",
              "    }\n",
              "\n",
              "    .dataframe tbody tr th {\n",
              "        vertical-align: top;\n",
              "    }\n",
              "\n",
              "    .dataframe thead th {\n",
              "        text-align: right;\n",
              "    }\n",
              "</style>\n",
              "<table border=\"1\" class=\"dataframe\">\n",
              "  <thead>\n",
              "    <tr style=\"text-align: right;\">\n",
              "      <th></th>\n",
              "      <th>count</th>\n",
              "    </tr>\n",
              "    <tr>\n",
              "      <th>day</th>\n",
              "      <th></th>\n",
              "    </tr>\n",
              "  </thead>\n",
              "  <tbody>\n",
              "    <tr>\n",
              "      <th>Monday</th>\n",
              "      <td>22</td>\n",
              "    </tr>\n",
              "    <tr>\n",
              "      <th>Tuesday</th>\n",
              "      <td>23</td>\n",
              "    </tr>\n",
              "    <tr>\n",
              "      <th>Wednesday</th>\n",
              "      <td>17</td>\n",
              "    </tr>\n",
              "    <tr>\n",
              "      <th>Thursday</th>\n",
              "      <td>25</td>\n",
              "    </tr>\n",
              "    <tr>\n",
              "      <th>Friday</th>\n",
              "      <td>29</td>\n",
              "    </tr>\n",
              "    <tr>\n",
              "      <th>Saturday</th>\n",
              "      <td>19</td>\n",
              "    </tr>\n",
              "    <tr>\n",
              "      <th>Sunday</th>\n",
              "      <td>20</td>\n",
              "    </tr>\n",
              "  </tbody>\n",
              "</table>\n",
              "</div>"
            ],
            "text/plain": [
              "           count\n",
              "day             \n",
              "Monday        22\n",
              "Tuesday       23\n",
              "Wednesday     17\n",
              "Thursday      25\n",
              "Friday        29\n",
              "Saturday      19\n",
              "Sunday        20"
            ]
          },
          "metadata": {
            "tags": []
          },
          "execution_count": 14
        }
      ]
    },
    {
      "cell_type": "markdown",
      "metadata": {
        "id": "zEkgtaWuocnq"
      },
      "source": [
        "## 3. Graficar"
      ]
    },
    {
      "cell_type": "code",
      "metadata": {
        "id": "yTCqLsvYd9Iq"
      },
      "source": [
        "df_count_sorted.rename(index={'Monday':'Mon', 'Tuesday':'Tue', 'Wednesday':'Wed','Thursday':'Thu','Friday':'Fri','Saturday':'Sat','Sunday':'Sun'}, inplace=True)"
      ],
      "execution_count": null,
      "outputs": []
    },
    {
      "cell_type": "code",
      "metadata": {
        "colab": {
          "base_uri": "https://localhost:8080/",
          "height": 296
        },
        "id": "tvlvicwbO7gz",
        "outputId": "13b2116d-5122-4ae0-975d-9ccc3a0e0c1b"
      },
      "source": [
        "#Comparar cantidad de variaciones negativas en el año por día\n",
        "plt.bar(df_count_sorted.index, df_count_sorted['count'], width=0.6, color=['r'])\n",
        "plt.title('Number of time with negative price variation per week for ETH\\n24/06/2020 to 25/06/2021')\n",
        "plt.ylabel('Times')\n",
        "plt.show()"
      ],
      "execution_count": null,
      "outputs": [
        {
          "output_type": "display_data",
          "data": {
            "image/png": "[encoded data removed]",
            "text/plain": [
              "<Figure size 432x288 with 1 Axes>"
            ]
          },
          "metadata": {
            "tags": [],
            "needs_background": "light"
          }
        }
      ]
    },
    {
      "cell_type": "code",
      "metadata": {
        "colab": {
          "base_uri": "https://localhost:8080/",
          "height": 420
        },
        "id": "dlkrWGgNlnaX",
        "outputId": "440a8442-6904-4497-e6e0-16fb8082d6ad"
      },
      "source": [
        "# Variación en el tiempo  (negativa y positiva)\n",
        "plt.figure(figsize=(10, 6))\n",
        "plt.plot(df['date'],df['% var'])\n",
        "plt.axhline(y=0, color='r')\n",
        "plt.title('% Price Variation in ETH\\nfrom 24/06/2020 to 25/06/2021\\n')\n",
        "plt.show()"
      ],
      "execution_count": null,
      "outputs": [
        {
          "output_type": "display_data",
          "data": {
            "image/png": "[encoded data removed]",
            "text/plain": [
              "<Figure size 720x432 with 1 Axes>"
            ]
          },
          "metadata": {
            "tags": [],
            "needs_background": "light"
          }
        }
      ]
    },
    {
      "cell_type": "code",
      "metadata": {
        "colab": {
          "base_uri": "https://localhost:8080/",
          "height": 340
        },
        "id": "vI69F_I-bE1m",
        "outputId": "868cabc4-f112-40b3-8c7e-7e694d6011e9"
      },
      "source": [
        "# Variación en el tiempo (negativa)\n",
        "df_neg.plot.line('date','% var', color='r', legend=False).set_title('% Negative Price Variation in ETH\\nfrom 24/06/2020 to 25/06/2021\\n')"
      ],
      "execution_count": null,
      "outputs": [
        {
          "output_type": "execute_result",
          "data": {
            "text/plain": [
              "Text(0.5, 1.0, '% Negative Price Variation in ETH\\nfrom 24/06/2020 to 25/06/2021\\n')"
            ]
          },
          "metadata": {
            "tags": []
          },
          "execution_count": 18
        },
        {
          "output_type": "display_data",
          "data": {
            "image/png": "[encoded data removed]",
            "text/plain": [
              "<Figure size 432x288 with 1 Axes>"
            ]
          },
          "metadata": {
            "tags": [],
            "needs_background": "light"
          }
        }
      ]
    },
    {
      "cell_type": "markdown",
      "metadata": {
        "id": "EplfXZRRyTn5"
      },
      "source": [
        "## 4. Conclusión"
      ]
    },
    {
      "cell_type": "markdown",
      "metadata": {
        "id": "DWvZco6yddXg"
      },
      "source": [
        "El mejor día para comprar ETH es al final del viernes o al inicio del sábado, justo antes de que empiece a subir el precio."
      ]
    }
  ]
}